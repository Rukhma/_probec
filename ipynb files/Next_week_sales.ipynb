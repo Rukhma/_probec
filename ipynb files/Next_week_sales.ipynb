{
  "nbformat": 4,
  "nbformat_minor": 0,
  "metadata": {
    "colab": {
      "name": "Next_week_sales.ipynb",
      "provenance": [],
      "collapsed_sections": []
    },
    "kernelspec": {
      "name": "python3",
      "display_name": "Python 3"
    },
    "language_info": {
      "name": "python"
    }
  },
  "cells": [
    {
      "cell_type": "code",
      "metadata": {
        "id": "V98JdAwEM2sB"
      },
      "source": [
        "import pandas as pd"
      ],
      "execution_count": 1,
      "outputs": []
    },
    {
      "cell_type": "code",
      "metadata": {
        "id": "RXEn3rd2NHl8"
      },
      "source": [
        "dataset = pd.read_csv('next_week_sales.csv')"
      ],
      "execution_count": 3,
      "outputs": []
    },
    {
      "cell_type": "code",
      "metadata": {
        "colab": {
          "base_uri": "https://localhost:8080/",
          "height": 537
        },
        "id": "5M-MgvIfNP67",
        "outputId": "594f8899-84b0-4e49-ea41-c81912058622"
      },
      "source": [
        "# Grouping products by Category\n",
        "cat = pd.DataFrame(dataset.groupby(['categories']).sum()['sales'])\n",
        "\n",
        "# Sorting the values\n",
        "cat.sort_values(['categories'], ascending=False)\n",
        "cat[:10]"
      ],
      "execution_count": 4,
      "outputs": [
        {
          "output_type": "execute_result",
          "data": {
            "text/html": [
              "<div>\n",
              "<style scoped>\n",
              "    .dataframe tbody tr th:only-of-type {\n",
              "        vertical-align: middle;\n",
              "    }\n",
              "\n",
              "    .dataframe tbody tr th {\n",
              "        vertical-align: top;\n",
              "    }\n",
              "\n",
              "    .dataframe thead th {\n",
              "        text-align: right;\n",
              "    }\n",
              "</style>\n",
              "<table border=\"1\" class=\"dataframe\">\n",
              "  <thead>\n",
              "    <tr style=\"text-align: right;\">\n",
              "      <th></th>\n",
              "      <th>sales</th>\n",
              "    </tr>\n",
              "    <tr>\n",
              "      <th>categories</th>\n",
              "      <th></th>\n",
              "    </tr>\n",
              "  </thead>\n",
              "  <tbody>\n",
              "    <tr>\n",
              "      <th>Accessories,Portable Power Banks,Portable Chargers/Power Packs,Cell Phones &amp; Accessories,Cell Phones,Portable Battery Packs,Cell Phone Accessories,Cell Phone Batteries &amp; Power,Batteries &amp; Battery Packs,cell,Power,Chargers &amp; Cradles</th>\n",
              "      <td>1.896308e+04</td>\n",
              "    </tr>\n",
              "    <tr>\n",
              "      <th>Amazon Devices</th>\n",
              "      <td>1.079050e+06</td>\n",
              "    </tr>\n",
              "    <tr>\n",
              "      <th>Amazon Devices &amp; Accessories,Amazon Device Accessories,Controllers &amp; Remote Controls,Kindle Store,Amazon Echo Accessories,Remote Controls</th>\n",
              "      <td>6.793381e+03</td>\n",
              "    </tr>\n",
              "    <tr>\n",
              "      <th>Amazon Devices &amp; Accessories,Amazon Device Accessories,Controllers &amp; Remote Controls,Kindle Store,Fire TV Accessories,Controllers &amp; Remotes,Controllers</th>\n",
              "      <td>1.031172e+04</td>\n",
              "    </tr>\n",
              "    <tr>\n",
              "      <th>Amazon Devices &amp; Accessories,Amazon Device Accessories,Kindle Store,Kindle E-Reader Accessories,Kindle Oasis Accessories</th>\n",
              "      <td>6.049725e+03</td>\n",
              "    </tr>\n",
              "    <tr>\n",
              "      <th>Amazon Devices &amp; Accessories,Amazon Device Accessories,Power Adapters &amp; Cables,Kindle Store,Kindle E-Reader Accessories,Kindle Paperwhite Accessories</th>\n",
              "      <td>5.621505e+04</td>\n",
              "    </tr>\n",
              "    <tr>\n",
              "      <th>Amazon Devices,Corded Headsets,Electronics Features,Electronics,Audio,Headphones,Kindle Store,Kindle Accessories</th>\n",
              "      <td>1.486319e+04</td>\n",
              "    </tr>\n",
              "    <tr>\n",
              "      <th>Amazon Devices,Electronics,Kindle Store</th>\n",
              "      <td>2.106574e+04</td>\n",
              "    </tr>\n",
              "    <tr>\n",
              "      <th>Amazon Devices,Electronics,Kindle Store,Amazon Echo</th>\n",
              "      <td>1.190145e+04</td>\n",
              "    </tr>\n",
              "    <tr>\n",
              "      <th>Amazon Devices,Home,Smart Home &amp; Connected Living,Smart Hubs &amp; Wireless Routers,Smart Hubs,Home Improvement,Home Safety &amp; Security,Alarms &amp; Sensors,Home Security,Amazon Echo,Home, Garage &amp; Office,Smart Home,Voice Assistants,Amazon Tap,Electronics Features,TVs &amp; Electronics,Portable Audio &amp; Electronics,MP3 Player Accessories,Home Theater &amp; Audio,Speakers,Featured Brands,Electronics,Kindle Store,Frys,Electronic Components,Home Automation,Electronics, Tech Toys, Movies, Music,Audio,Bluetooth Speakers</th>\n",
              "      <td>8.560539e+03</td>\n",
              "    </tr>\n",
              "  </tbody>\n",
              "</table>\n",
              "</div>"
            ],
            "text/plain": [
              "                                                           sales\n",
              "categories                                                      \n",
              "Accessories,Portable Power Banks,Portable Charg...  1.896308e+04\n",
              "Amazon Devices                                      1.079050e+06\n",
              "Amazon Devices & Accessories,Amazon Device Acce...  6.793381e+03\n",
              "Amazon Devices & Accessories,Amazon Device Acce...  1.031172e+04\n",
              "Amazon Devices & Accessories,Amazon Device Acce...  6.049725e+03\n",
              "Amazon Devices & Accessories,Amazon Device Acce...  5.621505e+04\n",
              "Amazon Devices,Corded Headsets,Electronics Feat...  1.486319e+04\n",
              "Amazon Devices,Electronics,Kindle Store             2.106574e+04\n",
              "Amazon Devices,Electronics,Kindle Store,Amazon ...  1.190145e+04\n",
              "Amazon Devices,Home,Smart Home & Connected Livi...  8.560539e+03"
            ]
          },
          "metadata": {
            "tags": []
          },
          "execution_count": 4
        }
      ]
    },
    {
      "cell_type": "code",
      "metadata": {
        "colab": {
          "base_uri": "https://localhost:8080/",
          "height": 387
        },
        "id": "VJFn1ScKPtcM",
        "outputId": "ef9f863d-ea44-42d2-b66b-26d4160e9793"
      },
      "source": [
        "# Grouping products by Brands\n",
        "Brands = pd.DataFrame(dataset.groupby(['brand']).sum()['sales'])\n",
        "\n",
        "# Sorting the values\n",
        "Brands.sort_values(['brand'], ascending=False)\n",
        "Brands[:10]"
      ],
      "execution_count": 7,
      "outputs": [
        {
          "output_type": "execute_result",
          "data": {
            "text/html": [
              "<div>\n",
              "<style scoped>\n",
              "    .dataframe tbody tr th:only-of-type {\n",
              "        vertical-align: middle;\n",
              "    }\n",
              "\n",
              "    .dataframe tbody tr th {\n",
              "        vertical-align: top;\n",
              "    }\n",
              "\n",
              "    .dataframe thead th {\n",
              "        text-align: right;\n",
              "    }\n",
              "</style>\n",
              "<table border=\"1\" class=\"dataframe\">\n",
              "  <thead>\n",
              "    <tr style=\"text-align: right;\">\n",
              "      <th></th>\n",
              "      <th>sales</th>\n",
              "    </tr>\n",
              "    <tr>\n",
              "      <th>brand</th>\n",
              "      <th></th>\n",
              "    </tr>\n",
              "  </thead>\n",
              "  <tbody>\n",
              "    <tr>\n",
              "      <th></th>\n",
              "      <td>31265.071639</td>\n",
              "    </tr>\n",
              "    <tr>\n",
              "      <th>3nh</th>\n",
              "      <td>49017.804320</td>\n",
              "    </tr>\n",
              "    <tr>\n",
              "      <th>4700BC</th>\n",
              "      <td>3713.890030</td>\n",
              "    </tr>\n",
              "    <tr>\n",
              "      <th>47krate</th>\n",
              "      <td>37894.021430</td>\n",
              "    </tr>\n",
              "    <tr>\n",
              "      <th>99Auth</th>\n",
              "      <td>77059.565330</td>\n",
              "    </tr>\n",
              "    <tr>\n",
              "      <th>AAA+Shea+Butter</th>\n",
              "      <td>13892.531450</td>\n",
              "    </tr>\n",
              "    <tr>\n",
              "      <th>AGARAM</th>\n",
              "      <td>41499.365670</td>\n",
              "    </tr>\n",
              "    <tr>\n",
              "      <th>AJ Organics</th>\n",
              "      <td>7153.458493</td>\n",
              "    </tr>\n",
              "    <tr>\n",
              "      <th>ALPINE REMEDY</th>\n",
              "      <td>4151.249991</td>\n",
              "    </tr>\n",
              "    <tr>\n",
              "      <th>ANGTATVA</th>\n",
              "      <td>2120.960229</td>\n",
              "    </tr>\n",
              "  </tbody>\n",
              "</table>\n",
              "</div>"
            ],
            "text/plain": [
              "                        sales\n",
              "brand                        \n",
              "                 31265.071639\n",
              "3nh              49017.804320\n",
              "4700BC            3713.890030\n",
              "47krate          37894.021430\n",
              "99Auth           77059.565330\n",
              "AAA+Shea+Butter  13892.531450\n",
              "AGARAM           41499.365670\n",
              "AJ Organics       7153.458493\n",
              "ALPINE REMEDY     4151.249991\n",
              "ANGTATVA          2120.960229"
            ]
          },
          "metadata": {
            "tags": []
          },
          "execution_count": 7
        }
      ]
    }
  ]
}