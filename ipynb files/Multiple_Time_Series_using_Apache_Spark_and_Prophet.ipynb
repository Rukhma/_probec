{
  "nbformat": 4,
  "nbformat_minor": 0,
  "metadata": {
    "colab": {
      "name": "Multiple_Time_Series_using_Apache_Spark_and_Prophet.ipynb",
      "provenance": [],
      "collapsed_sections": []
    },
    "kernelspec": {
      "display_name": "Python 3",
      "name": "python3"
    }
  },
  "cells": [
    {
      "cell_type": "code",
      "metadata": {
        "colab": {
          "base_uri": "https://localhost:8080/"
        },
        "id": "tzyAudcJWcCi",
        "outputId": "3d09ba82-6c5a-43c2-f095-9f9b111c00a2"
      },
      "source": [
        "!pip install pyspark"
      ],
      "execution_count": 1,
      "outputs": [
        {
          "output_type": "stream",
          "text": [
            "Collecting pyspark\n",
            "\u001b[?25l  Downloading https://files.pythonhosted.org/packages/89/db/e18cfd78e408de957821ec5ca56de1250645b05f8523d169803d8df35a64/pyspark-3.1.2.tar.gz (212.4MB)\n",
            "\u001b[K     |████████████████████████████████| 212.4MB 61kB/s \n",
            "\u001b[?25hCollecting py4j==0.10.9\n",
            "\u001b[?25l  Downloading https://files.pythonhosted.org/packages/9e/b6/6a4fb90cd235dc8e265a6a2067f2a2c99f0d91787f06aca4bcf7c23f3f80/py4j-0.10.9-py2.py3-none-any.whl (198kB)\n",
            "\u001b[K     |████████████████████████████████| 204kB 17.8MB/s \n",
            "\u001b[?25hBuilding wheels for collected packages: pyspark\n",
            "  Building wheel for pyspark (setup.py) ... \u001b[?25l\u001b[?25hdone\n",
            "  Created wheel for pyspark: filename=pyspark-3.1.2-py2.py3-none-any.whl size=212880768 sha256=f1e7e4927a285295d4f91e479f45e4b395f33c1dcfc7ce2127c9471b394d4566\n",
            "  Stored in directory: /root/.cache/pip/wheels/40/1b/2c/30f43be2627857ab80062bef1527c0128f7b4070b6b2d02139\n",
            "Successfully built pyspark\n",
            "Installing collected packages: py4j, pyspark\n",
            "Successfully installed py4j-0.10.9 pyspark-3.1.2\n"
          ],
          "name": "stdout"
        }
      ]
    },
    {
      "cell_type": "code",
      "metadata": {
        "id": "-aF9dJFVItfM"
      },
      "source": [
        "!pip install pyarrow==1.0.0"
      ],
      "execution_count": null,
      "outputs": []
    },
    {
      "cell_type": "code",
      "metadata": {
        "id": "NUe7BW37S6VA"
      },
      "source": [
        "!pip install fbprophet"
      ],
      "execution_count": null,
      "outputs": []
    },
    {
      "cell_type": "code",
      "metadata": {
        "id": "CY5G7SE9PLEB"
      },
      "source": [
        "import matplotlib as mpl\n",
        "import matplotlib.pyplot as plt\n",
        "import pandas as pd\n",
        "\n",
        "from fbprophet import Prophet\n",
        "\n",
        "mpl.rcParams['figure.figsize'] = (10, 8)\n",
        "mpl.rcParams['axes.grid'] = False"
      ],
      "execution_count": 2,
      "outputs": []
    },
    {
      "cell_type": "code",
      "metadata": {
        "id": "qE2sxBUnXPIP"
      },
      "source": [
        "from pyspark.sql import SparkSession\n",
        "import pyspark\n",
        "spark = SparkSession.builder.master('local').getOrCreate()"
      ],
      "execution_count": 3,
      "outputs": []
    },
    {
      "cell_type": "code",
      "metadata": {
        "id": "4dmzbVV5rrkJ"
      },
      "source": [
        "df = pd.read_csv('/content/fyp_sales_dataset.csv')"
      ],
      "execution_count": 4,
      "outputs": []
    },
    {
      "cell_type": "code",
      "metadata": {
        "colab": {
          "base_uri": "https://localhost:8080/",
          "height": 419
        },
        "id": "vwpMqvTdPsEx",
        "outputId": "6355187d-0fcc-4bc5-939c-d2f7baedac1a"
      },
      "source": [
        "df"
      ],
      "execution_count": 5,
      "outputs": [
        {
          "output_type": "execute_result",
          "data": {
            "text/html": [
              "<div>\n",
              "<style scoped>\n",
              "    .dataframe tbody tr th:only-of-type {\n",
              "        vertical-align: middle;\n",
              "    }\n",
              "\n",
              "    .dataframe tbody tr th {\n",
              "        vertical-align: top;\n",
              "    }\n",
              "\n",
              "    .dataframe thead th {\n",
              "        text-align: right;\n",
              "    }\n",
              "</style>\n",
              "<table border=\"1\" class=\"dataframe\">\n",
              "  <thead>\n",
              "    <tr style=\"text-align: right;\">\n",
              "      <th></th>\n",
              "      <th>id</th>\n",
              "      <th>Date</th>\n",
              "      <th>Weekly_Sales</th>\n",
              "    </tr>\n",
              "  </thead>\n",
              "  <tbody>\n",
              "    <tr>\n",
              "      <th>0</th>\n",
              "      <td>1</td>\n",
              "      <td>05/02/2014</td>\n",
              "      <td>1707.77</td>\n",
              "    </tr>\n",
              "    <tr>\n",
              "      <th>1</th>\n",
              "      <td>1</td>\n",
              "      <td>12/02/2014</td>\n",
              "      <td>1890.97</td>\n",
              "    </tr>\n",
              "    <tr>\n",
              "      <th>2</th>\n",
              "      <td>1</td>\n",
              "      <td>19/02/2014</td>\n",
              "      <td>2008.39</td>\n",
              "    </tr>\n",
              "    <tr>\n",
              "      <th>3</th>\n",
              "      <td>1</td>\n",
              "      <td>26/02/2014</td>\n",
              "      <td>1366.83</td>\n",
              "    </tr>\n",
              "    <tr>\n",
              "      <th>4</th>\n",
              "      <td>1</td>\n",
              "      <td>05/03/2014</td>\n",
              "      <td>1492.00</td>\n",
              "    </tr>\n",
              "    <tr>\n",
              "      <th>...</th>\n",
              "      <td>...</td>\n",
              "      <td>...</td>\n",
              "      <td>...</td>\n",
              "    </tr>\n",
              "    <tr>\n",
              "      <th>142710</th>\n",
              "      <td>998</td>\n",
              "      <td>28/09/2016</td>\n",
              "      <td>4364.69</td>\n",
              "    </tr>\n",
              "    <tr>\n",
              "      <th>142711</th>\n",
              "      <td>998</td>\n",
              "      <td>05/10/2016</td>\n",
              "      <td>7322.07</td>\n",
              "    </tr>\n",
              "    <tr>\n",
              "      <th>142712</th>\n",
              "      <td>998</td>\n",
              "      <td>12/10/2016</td>\n",
              "      <td>7733.20</td>\n",
              "    </tr>\n",
              "    <tr>\n",
              "      <th>142713</th>\n",
              "      <td>998</td>\n",
              "      <td>19/10/2016</td>\n",
              "      <td>5355.52</td>\n",
              "    </tr>\n",
              "    <tr>\n",
              "      <th>142714</th>\n",
              "      <td>998</td>\n",
              "      <td>26/10/2016</td>\n",
              "      <td>7106.74</td>\n",
              "    </tr>\n",
              "  </tbody>\n",
              "</table>\n",
              "<p>142715 rows × 3 columns</p>\n",
              "</div>"
            ],
            "text/plain": [
              "         id        Date  Weekly_Sales\n",
              "0         1  05/02/2014       1707.77\n",
              "1         1  12/02/2014       1890.97\n",
              "2         1  19/02/2014       2008.39\n",
              "3         1  26/02/2014       1366.83\n",
              "4         1  05/03/2014       1492.00\n",
              "...     ...         ...           ...\n",
              "142710  998  28/09/2016       4364.69\n",
              "142711  998  05/10/2016       7322.07\n",
              "142712  998  12/10/2016       7733.20\n",
              "142713  998  19/10/2016       5355.52\n",
              "142714  998  26/10/2016       7106.74\n",
              "\n",
              "[142715 rows x 3 columns]"
            ]
          },
          "metadata": {
            "tags": []
          },
          "execution_count": 5
        }
      ]
    },
    {
      "cell_type": "code",
      "metadata": {
        "colab": {
          "base_uri": "https://localhost:8080/"
        },
        "id": "HS0fi4rUwAzF",
        "outputId": "65c2303f-eaaf-442f-c5fb-56111dc16b00"
      },
      "source": [
        "df.info()"
      ],
      "execution_count": 6,
      "outputs": [
        {
          "output_type": "stream",
          "text": [
            "<class 'pandas.core.frame.DataFrame'>\n",
            "RangeIndex: 142715 entries, 0 to 142714\n",
            "Data columns (total 3 columns):\n",
            " #   Column        Non-Null Count   Dtype  \n",
            "---  ------        --------------   -----  \n",
            " 0   id            142715 non-null  int64  \n",
            " 1   Date          142715 non-null  object \n",
            " 2   Weekly_Sales  142715 non-null  float64\n",
            "dtypes: float64(1), int64(1), object(1)\n",
            "memory usage: 3.3+ MB\n"
          ],
          "name": "stdout"
        }
      ]
    },
    {
      "cell_type": "code",
      "metadata": {
        "id": "ehFToKs1wAtB"
      },
      "source": [
        "df['Date'] = pd.to_datetime(df['Date'], format=\"%d/%m/%Y\")"
      ],
      "execution_count": 7,
      "outputs": []
    },
    {
      "cell_type": "code",
      "metadata": {
        "colab": {
          "base_uri": "https://localhost:8080/"
        },
        "id": "FiwFKQyNwApE",
        "outputId": "7936c616-e17c-4570-dec0-ea6cae8c057c"
      },
      "source": [
        "df.info()"
      ],
      "execution_count": 8,
      "outputs": [
        {
          "output_type": "stream",
          "text": [
            "<class 'pandas.core.frame.DataFrame'>\n",
            "RangeIndex: 142715 entries, 0 to 142714\n",
            "Data columns (total 3 columns):\n",
            " #   Column        Non-Null Count   Dtype         \n",
            "---  ------        --------------   -----         \n",
            " 0   id            142715 non-null  int64         \n",
            " 1   Date          142715 non-null  datetime64[ns]\n",
            " 2   Weekly_Sales  142715 non-null  float64       \n",
            "dtypes: datetime64[ns](1), float64(1), int64(1)\n",
            "memory usage: 3.3 MB\n"
          ],
          "name": "stdout"
        }
      ]
    },
    {
      "cell_type": "code",
      "metadata": {
        "colab": {
          "base_uri": "https://localhost:8080/"
        },
        "id": "7CjGkIT-K1bf",
        "outputId": "2ff15c5e-51c6-40e3-c5ab-b79f75e1ee24"
      },
      "source": [
        "print (\"\\nFeatures : \\n\" ,df.columns.tolist())\n",
        "print (\"\\nMissing values :  \", df.isnull().any())\n",
        "print (\"\\nUnique values :  \\n\",df.nunique())"
      ],
      "execution_count": 9,
      "outputs": [
        {
          "output_type": "stream",
          "text": [
            "\n",
            "Features : \n",
            " ['id', 'Date', 'Weekly_Sales']\n",
            "\n",
            "Missing values :   id              False\n",
            "Date            False\n",
            "Weekly_Sales    False\n",
            "dtype: bool\n",
            "\n",
            "Unique values :  \n",
            " id                 998\n",
            "Date               144\n",
            "Weekly_Sales    136314\n",
            "dtype: int64\n"
          ],
          "name": "stdout"
        }
      ]
    },
    {
      "cell_type": "code",
      "metadata": {
        "colab": {
          "base_uri": "https://localhost:8080/",
          "height": 419
        },
        "id": "p8GK0jnn_1En",
        "outputId": "b596eba2-876d-4766-8f60-2a2ecf53aa43"
      },
      "source": [
        "df"
      ],
      "execution_count": 10,
      "outputs": [
        {
          "output_type": "execute_result",
          "data": {
            "text/html": [
              "<div>\n",
              "<style scoped>\n",
              "    .dataframe tbody tr th:only-of-type {\n",
              "        vertical-align: middle;\n",
              "    }\n",
              "\n",
              "    .dataframe tbody tr th {\n",
              "        vertical-align: top;\n",
              "    }\n",
              "\n",
              "    .dataframe thead th {\n",
              "        text-align: right;\n",
              "    }\n",
              "</style>\n",
              "<table border=\"1\" class=\"dataframe\">\n",
              "  <thead>\n",
              "    <tr style=\"text-align: right;\">\n",
              "      <th></th>\n",
              "      <th>id</th>\n",
              "      <th>Date</th>\n",
              "      <th>Weekly_Sales</th>\n",
              "    </tr>\n",
              "  </thead>\n",
              "  <tbody>\n",
              "    <tr>\n",
              "      <th>0</th>\n",
              "      <td>1</td>\n",
              "      <td>2014-02-05</td>\n",
              "      <td>1707.77</td>\n",
              "    </tr>\n",
              "    <tr>\n",
              "      <th>1</th>\n",
              "      <td>1</td>\n",
              "      <td>2014-02-12</td>\n",
              "      <td>1890.97</td>\n",
              "    </tr>\n",
              "    <tr>\n",
              "      <th>2</th>\n",
              "      <td>1</td>\n",
              "      <td>2014-02-19</td>\n",
              "      <td>2008.39</td>\n",
              "    </tr>\n",
              "    <tr>\n",
              "      <th>3</th>\n",
              "      <td>1</td>\n",
              "      <td>2014-02-26</td>\n",
              "      <td>1366.83</td>\n",
              "    </tr>\n",
              "    <tr>\n",
              "      <th>4</th>\n",
              "      <td>1</td>\n",
              "      <td>2014-03-05</td>\n",
              "      <td>1492.00</td>\n",
              "    </tr>\n",
              "    <tr>\n",
              "      <th>...</th>\n",
              "      <td>...</td>\n",
              "      <td>...</td>\n",
              "      <td>...</td>\n",
              "    </tr>\n",
              "    <tr>\n",
              "      <th>142710</th>\n",
              "      <td>998</td>\n",
              "      <td>2016-09-28</td>\n",
              "      <td>4364.69</td>\n",
              "    </tr>\n",
              "    <tr>\n",
              "      <th>142711</th>\n",
              "      <td>998</td>\n",
              "      <td>2016-10-05</td>\n",
              "      <td>7322.07</td>\n",
              "    </tr>\n",
              "    <tr>\n",
              "      <th>142712</th>\n",
              "      <td>998</td>\n",
              "      <td>2016-10-12</td>\n",
              "      <td>7733.20</td>\n",
              "    </tr>\n",
              "    <tr>\n",
              "      <th>142713</th>\n",
              "      <td>998</td>\n",
              "      <td>2016-10-19</td>\n",
              "      <td>5355.52</td>\n",
              "    </tr>\n",
              "    <tr>\n",
              "      <th>142714</th>\n",
              "      <td>998</td>\n",
              "      <td>2016-10-26</td>\n",
              "      <td>7106.74</td>\n",
              "    </tr>\n",
              "  </tbody>\n",
              "</table>\n",
              "<p>142715 rows × 3 columns</p>\n",
              "</div>"
            ],
            "text/plain": [
              "         id       Date  Weekly_Sales\n",
              "0         1 2014-02-05       1707.77\n",
              "1         1 2014-02-12       1890.97\n",
              "2         1 2014-02-19       2008.39\n",
              "3         1 2014-02-26       1366.83\n",
              "4         1 2014-03-05       1492.00\n",
              "...     ...        ...           ...\n",
              "142710  998 2016-09-28       4364.69\n",
              "142711  998 2016-10-05       7322.07\n",
              "142712  998 2016-10-12       7733.20\n",
              "142713  998 2016-10-19       5355.52\n",
              "142714  998 2016-10-26       7106.74\n",
              "\n",
              "[142715 rows x 3 columns]"
            ]
          },
          "metadata": {
            "tags": []
          },
          "execution_count": 10
        }
      ]
    },
    {
      "cell_type": "code",
      "metadata": {
        "id": "JeraNov2Cqch"
      },
      "source": [
        "df_base = df.copy()"
      ],
      "execution_count": 11,
      "outputs": []
    },
    {
      "cell_type": "code",
      "metadata": {
        "colab": {
          "base_uri": "https://localhost:8080/",
          "height": 297
        },
        "id": "P8ZiNTvGIBxj",
        "outputId": "ab624fa9-0500-4480-b1fa-9f5516e28346"
      },
      "source": [
        "df.describe()"
      ],
      "execution_count": 12,
      "outputs": [
        {
          "output_type": "execute_result",
          "data": {
            "text/html": [
              "<div>\n",
              "<style scoped>\n",
              "    .dataframe tbody tr th:only-of-type {\n",
              "        vertical-align: middle;\n",
              "    }\n",
              "\n",
              "    .dataframe tbody tr th {\n",
              "        vertical-align: top;\n",
              "    }\n",
              "\n",
              "    .dataframe thead th {\n",
              "        text-align: right;\n",
              "    }\n",
              "</style>\n",
              "<table border=\"1\" class=\"dataframe\">\n",
              "  <thead>\n",
              "    <tr style=\"text-align: right;\">\n",
              "      <th></th>\n",
              "      <th>id</th>\n",
              "      <th>Weekly_Sales</th>\n",
              "    </tr>\n",
              "  </thead>\n",
              "  <tbody>\n",
              "    <tr>\n",
              "      <th>count</th>\n",
              "      <td>142715.000000</td>\n",
              "      <td>142715.000000</td>\n",
              "    </tr>\n",
              "    <tr>\n",
              "      <th>mean</th>\n",
              "      <td>499.502659</td>\n",
              "      <td>19570.270410</td>\n",
              "    </tr>\n",
              "    <tr>\n",
              "      <th>std</th>\n",
              "      <td>288.099391</td>\n",
              "      <td>25741.264771</td>\n",
              "    </tr>\n",
              "    <tr>\n",
              "      <th>min</th>\n",
              "      <td>1.000000</td>\n",
              "      <td>-139.650000</td>\n",
              "    </tr>\n",
              "    <tr>\n",
              "      <th>25%</th>\n",
              "      <td>250.000000</td>\n",
              "      <td>3550.570000</td>\n",
              "    </tr>\n",
              "    <tr>\n",
              "      <th>50%</th>\n",
              "      <td>500.000000</td>\n",
              "      <td>10110.560000</td>\n",
              "    </tr>\n",
              "    <tr>\n",
              "      <th>75%</th>\n",
              "      <td>749.000000</td>\n",
              "      <td>24649.605000</td>\n",
              "    </tr>\n",
              "    <tr>\n",
              "      <th>max</th>\n",
              "      <td>998.000000</td>\n",
              "      <td>693099.360000</td>\n",
              "    </tr>\n",
              "  </tbody>\n",
              "</table>\n",
              "</div>"
            ],
            "text/plain": [
              "                  id   Weekly_Sales\n",
              "count  142715.000000  142715.000000\n",
              "mean      499.502659   19570.270410\n",
              "std       288.099391   25741.264771\n",
              "min         1.000000    -139.650000\n",
              "25%       250.000000    3550.570000\n",
              "50%       500.000000   10110.560000\n",
              "75%       749.000000   24649.605000\n",
              "max       998.000000  693099.360000"
            ]
          },
          "metadata": {
            "tags": []
          },
          "execution_count": 12
        }
      ]
    },
    {
      "cell_type": "code",
      "metadata": {
        "colab": {
          "base_uri": "https://localhost:8080/"
        },
        "id": "KlkocklDcDim",
        "outputId": "5b1f1ba4-d63c-4e52-afcf-a2010413428b"
      },
      "source": [
        "df['id'].value_counts()"
      ],
      "execution_count": 13,
      "outputs": [
        {
          "output_type": "execute_result",
          "data": {
            "text/plain": [
              "879    144\n",
              "895    143\n",
              "936    143\n",
              "554    143\n",
              "426    143\n",
              "      ... \n",
              "594    143\n",
              "466    143\n",
              "338    143\n",
              "210    143\n",
              "128    143\n",
              "Name: id, Length: 998, dtype: int64"
            ]
          },
          "metadata": {
            "tags": []
          },
          "execution_count": 13
        }
      ]
    },
    {
      "cell_type": "code",
      "metadata": {
        "id": "uYAX0wP6K1Mt"
      },
      "source": [
        "item_df = df.set_index('Date')"
      ],
      "execution_count": 14,
      "outputs": []
    },
    {
      "cell_type": "code",
      "metadata": {
        "colab": {
          "base_uri": "https://localhost:8080/",
          "height": 525
        },
        "id": "nu4sDoK5K1CT",
        "outputId": "9fe4a05c-3f42-46eb-8030-c9bc891d2d8e"
      },
      "source": [
        "item_df.query(\"id==1\")[['Weekly_Sales']].plot()"
      ],
      "execution_count": 15,
      "outputs": [
        {
          "output_type": "execute_result",
          "data": {
            "text/plain": [
              "<matplotlib.axes._subplots.AxesSubplot at 0x7f57d15d5b50>"
            ]
          },
          "metadata": {
            "tags": []
          },
          "execution_count": 15
        },
        {
          "output_type": "display_data",
          "data": {
            "image/png": "[encoded data removed]",
            "text/plain": [
              "<Figure size 720x576 with 1 Axes>"
            ]
          },
          "metadata": {
            "tags": [],
            "needs_background": "light"
          }
        }
      ]
    },
    {
      "cell_type": "code",
      "metadata": {
        "colab": {
          "base_uri": "https://localhost:8080/",
          "height": 525
        },
        "id": "Wd1j0SMInNkS",
        "outputId": "62b0ae55-5fef-4f70-e869-39d2cc34ab0a"
      },
      "source": [
        "item_df.query(\"id==41\")[['Weekly_Sales']].plot()"
      ],
      "execution_count": 16,
      "outputs": [
        {
          "output_type": "execute_result",
          "data": {
            "text/plain": [
              "<matplotlib.axes._subplots.AxesSubplot at 0x7f57d09ff990>"
            ]
          },
          "metadata": {
            "tags": []
          },
          "execution_count": 16
        },
        {
          "output_type": "display_data",
          "data": {
            "image/png": "[encoded data removed]",
            "text/plain": [
              "<Figure size 720x576 with 1 Axes>"
            ]
          },
          "metadata": {
            "tags": [],
            "needs_background": "light"
          }
        }
      ]
    },
    {
      "cell_type": "code",
      "metadata": {
        "colab": {
          "base_uri": "https://localhost:8080/",
          "height": 525
        },
        "id": "RXHG7z8-P9T-",
        "outputId": "2b0e8637-83f2-4ddd-f15f-2e9593d7d020"
      },
      "source": [
        "item_df.query(\"id==998\")[['Weekly_Sales']].plot()"
      ],
      "execution_count": 18,
      "outputs": [
        {
          "output_type": "execute_result",
          "data": {
            "text/plain": [
              "<matplotlib.axes._subplots.AxesSubplot at 0x7f57d04f6f90>"
            ]
          },
          "metadata": {
            "tags": []
          },
          "execution_count": 18
        },
        {
          "output_type": "display_data",
          "data": {
            "image/png": "[encoded data removed]",
            "text/plain": [
              "<Figure size 720x576 with 1 Axes>"
            ]
          },
          "metadata": {
            "tags": [],
            "needs_background": "light"
          }
        }
      ]
    },
    {
      "cell_type": "code",
      "metadata": {
        "id": "XhOZ8G9xP9OJ"
      },
      "source": [
        "sdf = spark.createDataFrame(df)"
      ],
      "execution_count": 19,
      "outputs": []
    },
    {
      "cell_type": "code",
      "metadata": {
        "colab": {
          "base_uri": "https://localhost:8080/"
        },
        "id": "PrdXiURiP9Ld",
        "outputId": "b213cfb7-8a1a-4272-bb39-4c50474a4235"
      },
      "source": [
        "sdf.show(5)"
      ],
      "execution_count": 20,
      "outputs": [
        {
          "output_type": "stream",
          "text": [
            "+---+-------------------+------------+\n",
            "| id|               Date|Weekly_Sales|\n",
            "+---+-------------------+------------+\n",
            "|  1|2014-02-05 00:00:00|     1707.77|\n",
            "|  1|2014-02-12 00:00:00|     1890.97|\n",
            "|  1|2014-02-19 00:00:00|     2008.39|\n",
            "|  1|2014-02-26 00:00:00|     1366.83|\n",
            "|  1|2014-03-05 00:00:00|      1492.0|\n",
            "+---+-------------------+------------+\n",
            "only showing top 5 rows\n",
            "\n"
          ],
          "name": "stdout"
        }
      ]
    },
    {
      "cell_type": "code",
      "metadata": {
        "colab": {
          "base_uri": "https://localhost:8080/"
        },
        "id": "If4w2bE7P9Ij",
        "outputId": "69878f51-6950-433f-e090-7a57bbc66df8"
      },
      "source": [
        "sdf.printSchema()"
      ],
      "execution_count": 21,
      "outputs": [
        {
          "output_type": "stream",
          "text": [
            "root\n",
            " |-- id: long (nullable = true)\n",
            " |-- Date: timestamp (nullable = true)\n",
            " |-- Weekly_Sales: double (nullable = true)\n",
            "\n"
          ],
          "name": "stdout"
        }
      ]
    },
    {
      "cell_type": "code",
      "metadata": {
        "colab": {
          "base_uri": "https://localhost:8080/"
        },
        "id": "p6GuZ8PyP9GP",
        "outputId": "11766948-ae3b-490f-c171-020d5d915424"
      },
      "source": [
        "sdf.count() #no. of rows"
      ],
      "execution_count": 22,
      "outputs": [
        {
          "output_type": "execute_result",
          "data": {
            "text/plain": [
              "142715"
            ]
          },
          "metadata": {
            "tags": []
          },
          "execution_count": 22
        }
      ]
    },
    {
      "cell_type": "code",
      "metadata": {
        "colab": {
          "base_uri": "https://localhost:8080/"
        },
        "id": "Bk4MebeQP9DM",
        "outputId": "97ab0ab8-dd22-405d-d60a-e12e8110242a"
      },
      "source": [
        "sdf.select(['id']).groupBy('id').agg({'id':'count'}).show()"
      ],
      "execution_count": 23,
      "outputs": [
        {
          "output_type": "stream",
          "text": [
            "+---+---------+\n",
            "| id|count(id)|\n",
            "+---+---------+\n",
            "| 26|      143|\n",
            "| 29|      143|\n",
            "|474|      143|\n",
            "|964|      143|\n",
            "| 65|      143|\n",
            "|191|      143|\n",
            "|418|      143|\n",
            "|541|      143|\n",
            "|558|      143|\n",
            "|222|      143|\n",
            "|270|      143|\n",
            "|293|      143|\n",
            "|730|      143|\n",
            "|938|      143|\n",
            "|243|      143|\n",
            "|278|      143|\n",
            "|367|      143|\n",
            "|442|      143|\n",
            "|705|      143|\n",
            "|720|      143|\n",
            "+---+---------+\n",
            "only showing top 20 rows\n",
            "\n"
          ],
          "name": "stdout"
        }
      ]
    },
    {
      "cell_type": "code",
      "metadata": {
        "id": "LkO5c9JHP9BM"
      },
      "source": [
        "sdf.createOrReplaceTempView(\"Weekly_Sales\")"
      ],
      "execution_count": 24,
      "outputs": []
    },
    {
      "cell_type": "code",
      "metadata": {
        "colab": {
          "base_uri": "https://localhost:8080/"
        },
        "id": "vf5pea8aP8-l",
        "outputId": "20266593-359b-484d-8052-96faa816d926"
      },
      "source": [
        "spark.sql(\"select id, count(*) from Weekly_Sales group by id order by id\").show()"
      ],
      "execution_count": 25,
      "outputs": [
        {
          "output_type": "stream",
          "text": [
            "+---+--------+\n",
            "| id|count(1)|\n",
            "+---+--------+\n",
            "|  1|     143|\n",
            "|  2|     143|\n",
            "|  3|     143|\n",
            "|  4|     143|\n",
            "|  5|     143|\n",
            "|  6|     143|\n",
            "|  7|     143|\n",
            "|  8|     143|\n",
            "|  9|     143|\n",
            "| 10|     143|\n",
            "| 11|     143|\n",
            "| 12|     143|\n",
            "| 13|     143|\n",
            "| 14|     143|\n",
            "| 15|     143|\n",
            "| 16|     143|\n",
            "| 17|     143|\n",
            "| 18|     143|\n",
            "| 19|     143|\n",
            "| 20|     143|\n",
            "+---+--------+\n",
            "only showing top 20 rows\n",
            "\n"
          ],
          "name": "stdout"
        }
      ]
    },
    {
      "cell_type": "code",
      "metadata": {
        "id": "IB_NkJ-YP866"
      },
      "source": [
        "sql = 'SELECT id, date as ds, sum(Weekly_Sales) as y FROM Weekly_Sales GROUP BY id, ds ORDER BY id, ds'"
      ],
      "execution_count": 26,
      "outputs": []
    },
    {
      "cell_type": "code",
      "metadata": {
        "colab": {
          "base_uri": "https://localhost:8080/"
        },
        "id": "0Yz4zI0qP84H",
        "outputId": "b9bf6384-f43f-46e8-ee2c-826e974e524f"
      },
      "source": [
        "spark.sql(sql).show()"
      ],
      "execution_count": 27,
      "outputs": [
        {
          "output_type": "stream",
          "text": [
            "+---+-------------------+-------+\n",
            "| id|                 ds|      y|\n",
            "+---+-------------------+-------+\n",
            "|  1|2014-02-05 00:00:00|1707.77|\n",
            "|  1|2014-02-12 00:00:00|1890.97|\n",
            "|  1|2014-02-19 00:00:00|2008.39|\n",
            "|  1|2014-02-26 00:00:00|1366.83|\n",
            "|  1|2014-03-05 00:00:00| 1492.0|\n",
            "|  1|2014-03-12 00:00:00|1338.83|\n",
            "|  1|2014-03-19 00:00:00|1174.83|\n",
            "|  1|2014-03-26 00:00:00|1201.53|\n",
            "|  1|2014-04-02 00:00:00| 1645.8|\n",
            "|  1|2014-04-09 00:00:00|1706.83|\n",
            "|  1|2014-04-16 00:00:00| 1535.0|\n",
            "|  1|2014-04-23 00:00:00| 1852.0|\n",
            "|  1|2014-04-30 00:00:00| 1358.0|\n",
            "|  1|2014-05-07 00:00:00| 1368.0|\n",
            "|  1|2014-05-14 00:00:00|1452.99|\n",
            "|  1|2014-05-21 00:00:00| 1409.0|\n",
            "|  1|2014-05-28 00:00:00|1465.99|\n",
            "|  1|2014-06-04 00:00:00|1558.83|\n",
            "|  1|2014-06-11 00:00:00|1837.99|\n",
            "|  1|2014-06-18 00:00:00| 2285.0|\n",
            "+---+-------------------+-------+\n",
            "only showing top 20 rows\n",
            "\n"
          ],
          "name": "stdout"
        }
      ]
    },
    {
      "cell_type": "code",
      "metadata": {
        "colab": {
          "base_uri": "https://localhost:8080/"
        },
        "id": "ES28Jos5NfMx",
        "outputId": "d71c72bc-c12f-4962-bb15-931ef684057e"
      },
      "source": [
        "sdf.explain()"
      ],
      "execution_count": 28,
      "outputs": [
        {
          "output_type": "stream",
          "text": [
            "== Physical Plan ==\n",
            "*(1) Scan ExistingRDD[id#0L,Date#1,Weekly_Sales#2]\n",
            "\n",
            "\n"
          ],
          "name": "stdout"
        }
      ]
    },
    {
      "cell_type": "code",
      "metadata": {
        "colab": {
          "base_uri": "https://localhost:8080/"
        },
        "id": "4CkhDN9CPGU3",
        "outputId": "33596fde-e716-43a1-a03c-36725972441e"
      },
      "source": [
        "sdf.rdd.getNumPartitions()"
      ],
      "execution_count": 29,
      "outputs": [
        {
          "output_type": "execute_result",
          "data": {
            "text/plain": [
              "1"
            ]
          },
          "metadata": {
            "tags": []
          },
          "execution_count": 29
        }
      ]
    },
    {
      "cell_type": "code",
      "metadata": {
        "id": "DskWUcVlP81s"
      },
      "source": [
        "store_part = (spark.sql( sql ).repartition(spark.sparkContext.defaultParallelism, ['id'])).cache()"
      ],
      "execution_count": 30,
      "outputs": []
    },
    {
      "cell_type": "code",
      "metadata": {
        "colab": {
          "base_uri": "https://localhost:8080/"
        },
        "id": "r-mWsPutuxS6",
        "outputId": "2819111d-e308-47b6-f984-c84448fb5e6e"
      },
      "source": [
        "store_part"
      ],
      "execution_count": 31,
      "outputs": [
        {
          "output_type": "execute_result",
          "data": {
            "text/plain": [
              "DataFrame[id: bigint, ds: timestamp, y: double]"
            ]
          },
          "metadata": {
            "tags": []
          },
          "execution_count": 31
        }
      ]
    },
    {
      "cell_type": "code",
      "metadata": {
        "colab": {
          "base_uri": "https://localhost:8080/"
        },
        "id": "9BHeebRdNkap",
        "outputId": "33a0d398-d4db-4c8a-8f2d-b3fab69d723f"
      },
      "source": [
        "store_part.explain()"
      ],
      "execution_count": 32,
      "outputs": [
        {
          "output_type": "stream",
          "text": [
            "== Physical Plan ==\n",
            "InMemoryTableScan [id#0L, ds#83, y#84]\n",
            "   +- InMemoryRelation [id#0L, ds#83, y#84], StorageLevel(disk, memory, deserialized, 1 replicas)\n",
            "         +- Exchange hashpartitioning(id#0L, 1), REPARTITION_WITH_NUM, [id=#147]\n",
            "            +- *(3) Sort [id#0L ASC NULLS FIRST, ds#83 ASC NULLS FIRST], true, 0\n",
            "               +- Exchange rangepartitioning(id#0L ASC NULLS FIRST, ds#83 ASC NULLS FIRST, 200), ENSURE_REQUIREMENTS, [id=#143]\n",
            "                  +- *(2) HashAggregate(keys=[id#0L, date#1], functions=[sum(Weekly_Sales#2)])\n",
            "                     +- Exchange hashpartitioning(id#0L, date#1, 200), ENSURE_REQUIREMENTS, [id=#139]\n",
            "                        +- *(1) HashAggregate(keys=[id#0L, date#1], functions=[partial_sum(Weekly_Sales#2)])\n",
            "                           +- *(1) Scan ExistingRDD[id#0L,Date#1,Weekly_Sales#2]\n",
            "\n",
            "\n"
          ],
          "name": "stdout"
        }
      ]
    },
    {
      "cell_type": "code",
      "metadata": {
        "id": "6E7MgluCuwrL"
      },
      "source": [
        "from pyspark.sql.types import *\n",
        "\n",
        "result_schema =StructType([\n",
        "  StructField('ds',TimestampType()),\n",
        "  StructField('id',IntegerType()),\n",
        "  StructField('y',DoubleType()),\n",
        "  StructField('yhat',DoubleType()),\n",
        "  StructField('yhat_upper',DoubleType()),\n",
        "  StructField('yhat_lower',DoubleType())\n",
        "  ])"
      ],
      "execution_count": 33,
      "outputs": []
    },
    {
      "cell_type": "code",
      "metadata": {
        "id": "4ry6ExeHuwav"
      },
      "source": [
        "from pyspark.sql.functions import pandas_udf, PandasUDFType\n",
        "\n",
        "@pandas_udf( result_schema, PandasUDFType.GROUPED_MAP )\n",
        "def forecast_sales( store_pd ):\n",
        "\n",
        "  model = Prophet(interval_width=0.95,seasonality_mode = 'additive')\n",
        "\n",
        "  model.fit( store_pd )\n",
        "\n",
        "  future_pd = model.make_future_dataframe(\n",
        "    periods=16, \n",
        "    freq='w-wed'\n",
        "    )\n",
        "  \n",
        "  forecast_pd = model.predict(future_pd)  \n",
        "  \n",
        "  f_pd = forecast_pd[ ['ds','yhat', 'yhat_upper', 'yhat_lower'] ].set_index('ds')\n",
        "  \n",
        "  st_pd = store_pd[['ds','id','y']].set_index('ds')\n",
        "  \n",
        "  results_pd = f_pd.join( st_pd, how='left' )\n",
        "\n",
        "  results_pd.reset_index(level=0, inplace=True)\n",
        "  \n",
        "  results_pd['id'] = store_pd['id'].iloc[0]\n",
        "\n",
        "  return results_pd[ ['ds', 'id','y', 'yhat', 'yhat_upper', 'yhat_lower'] ]  "
      ],
      "execution_count": 104,
      "outputs": []
    },
    {
      "cell_type": "code",
      "metadata": {
        "colab": {
          "base_uri": "https://localhost:8080/"
        },
        "id": "cpie_8DUPdIT",
        "outputId": "b449f14c-15d7-4a91-bad5-b5fdc16d39cd"
      },
      "source": [
        "from pyspark.sql.functions import current_date\n",
        "\n",
        "results = (\n",
        "  store_part\n",
        "    .groupBy('id')\n",
        "    .apply(forecast_sales)\n",
        "    .withColumn('training_date', current_date() )\n",
        "    )"
      ],
      "execution_count": 106,
      "outputs": [
        {
          "output_type": "stream",
          "text": [
            "/usr/local/lib/python3.7/dist-packages/pyspark/sql/pandas/group_ops.py:84: UserWarning:\n",
            "\n",
            "It is preferred to use 'applyInPandas' over this API. This API will be deprecated in the future releases. See SPARK-28264 for more details.\n",
            "\n"
          ],
          "name": "stderr"
        }
      ]
    },
    {
      "cell_type": "code",
      "metadata": {
        "colab": {
          "base_uri": "https://localhost:8080/"
        },
        "id": "6pAQ0nYnS_Sz",
        "outputId": "ad6583ab-8f4e-4e58-bfe3-54aa814a953b"
      },
      "source": [
        "results.cache()"
      ],
      "execution_count": 107,
      "outputs": [
        {
          "output_type": "execute_result",
          "data": {
            "text/plain": [
              "DataFrame[ds: timestamp, id: int, y: double, yhat: double, yhat_upper: double, yhat_lower: double, training_date: date]"
            ]
          },
          "metadata": {
            "tags": []
          },
          "execution_count": 107
        }
      ]
    },
    {
      "cell_type": "code",
      "metadata": {
        "colab": {
          "base_uri": "https://localhost:8080/"
        },
        "id": "S974tPXcPc-v",
        "outputId": "1c425326-287b-4388-f990-c2dd632b9bfe"
      },
      "source": [
        "results.show()"
      ],
      "execution_count": 108,
      "outputs": [
        {
          "output_type": "stream",
          "text": [
            "+-------------------+---+-------+------------------+------------------+-------------------+-------------+\n",
            "|                 ds| id|      y|              yhat|        yhat_upper|         yhat_lower|training_date|\n",
            "+-------------------+---+-------+------------------+------------------+-------------------+-------------+\n",
            "|2014-02-05 00:00:00|  1|1707.77|2153.8906161100167|  4276.87033592485|-2.2624191239675033|   2021-06-26|\n",
            "|2014-02-12 00:00:00|  1|1890.97|  2364.14215135614| 4479.486163050315| 27.102684903584436|   2021-06-26|\n",
            "|2014-02-19 00:00:00|  1|2008.39|2089.9998500595434| 4590.067819310052| -336.2576417572419|   2021-06-26|\n",
            "|2014-02-26 00:00:00|  1|1366.83| 1769.810361387978| 3983.815123609201| -718.9632617856595|   2021-06-26|\n",
            "|2014-03-05 00:00:00|  1| 1492.0|1646.7121762055408| 3866.265039362184|  -566.563684696092|   2021-06-26|\n",
            "|2014-03-12 00:00:00|  1|1338.83|1680.5274325100613| 3940.842802727643| -590.8174541921339|   2021-06-26|\n",
            "|2014-03-19 00:00:00|  1|1174.83|1761.2006538874768|4062.5121888393805|-409.65443568472557|   2021-06-26|\n",
            "|2014-03-26 00:00:00|  1|1201.53|1855.8883022652667| 3963.097903690685| -562.9912785680312|   2021-06-26|\n",
            "|2014-04-02 00:00:00|  1| 1645.8|1953.4063336695278| 4015.048919092568|-404.15147591853867|   2021-06-26|\n",
            "|2014-04-09 00:00:00|  1|1706.83|1994.0258833708795| 4155.357974089136| -347.2521333581229|   2021-06-26|\n",
            "|2014-04-16 00:00:00|  1| 1535.0| 1940.480875988378| 4020.405626343433| -372.7988641389727|   2021-06-26|\n",
            "|2014-04-23 00:00:00|  1| 1852.0|1870.5438059148714| 3972.547460781869|-441.61004951350543|   2021-06-26|\n",
            "|2014-04-30 00:00:00|  1| 1358.0| 1903.579096253181| 4116.987135425149| -470.8031697860358|   2021-06-26|\n",
            "|2014-05-07 00:00:00|  1| 1368.0|2030.2675136705338| 4364.517051335562|-219.97089486875703|   2021-06-26|\n",
            "|2014-05-14 00:00:00|  1|1452.99|2108.1629831488335| 4278.118273028398|-187.07504433810345|   2021-06-26|\n",
            "|2014-05-21 00:00:00|  1| 1409.0|2085.9191959178697| 4349.474663588773|-135.03529618930304|   2021-06-26|\n",
            "|2014-05-28 00:00:00|  1|1465.99|2162.1928946741646| 4494.569518991021| -45.61362692545524|   2021-06-26|\n",
            "|2014-06-04 00:00:00|  1|1558.83|2592.1110284473443| 4993.793365879822| 376.07330341400893|   2021-06-26|\n",
            "|2014-06-11 00:00:00|  1|1837.99|3299.8729895242823| 5627.455579904598|  840.9913846925317|   2021-06-26|\n",
            "|2014-06-18 00:00:00|  1| 2285.0| 3789.252256706918| 5957.352357305699|  1531.971649753171|   2021-06-26|\n",
            "+-------------------+---+-------+------------------+------------------+-------------------+-------------+\n",
            "only showing top 20 rows\n",
            "\n"
          ],
          "name": "stdout"
        }
      ]
    },
    {
      "cell_type": "code",
      "metadata": {
        "colab": {
          "base_uri": "https://localhost:8080/"
        },
        "id": "pm9V9lRFM_Ef",
        "outputId": "a1b0579b-a601-423d-9ba0-a2a874824f8b"
      },
      "source": [
        "results.explain()"
      ],
      "execution_count": 109,
      "outputs": [
        {
          "output_type": "stream",
          "text": [
            "== Physical Plan ==\n",
            "InMemoryTableScan [ds#1637, id#1638, y#1639, yhat#1640, yhat_upper#1641, yhat_lower#1642, training_date#1649]\n",
            "   +- InMemoryRelation [ds#1637, id#1638, y#1639, yhat#1640, yhat_upper#1641, yhat_lower#1642, training_date#1649], StorageLevel(disk, memory, deserialized, 1 replicas)\n",
            "         +- *(2) Project [ds#1637, id#1638, y#1639, yhat#1640, yhat_upper#1641, yhat_lower#1642, 18804 AS training_date#1649]\n",
            "            +- FlatMapGroupsInPandas [id#0L], forecast_sales(id#0L, ds#83, y#84), [ds#1637, id#1638, y#1639, yhat#1640, yhat_upper#1641, yhat_lower#1642]\n",
            "               +- *(1) Sort [id#0L ASC NULLS FIRST], false, 0\n",
            "                  +- InMemoryTableScan [id#0L, id#0L, ds#83, y#84]\n",
            "                        +- InMemoryRelation [id#0L, ds#83, y#84], StorageLevel(disk, memory, deserialized, 1 replicas)\n",
            "                              +- Exchange hashpartitioning(id#0L, 1), REPARTITION_WITH_NUM, [id=#147]\n",
            "                                 +- *(3) Sort [id#0L ASC NULLS FIRST, ds#83 ASC NULLS FIRST], true, 0\n",
            "                                    +- Exchange rangepartitioning(id#0L ASC NULLS FIRST, ds#83 ASC NULLS FIRST, 200), ENSURE_REQUIREMENTS, [id=#143]\n",
            "                                       +- *(2) HashAggregate(keys=[id#0L, date#1], functions=[sum(Weekly_Sales#2)])\n",
            "                                          +- Exchange hashpartitioning(id#0L, date#1, 200), ENSURE_REQUIREMENTS, [id=#139]\n",
            "                                             +- *(1) HashAggregate(keys=[id#0L, date#1], functions=[partial_sum(Weekly_Sales#2)])\n",
            "                                                +- *(1) Scan ExistingRDD[id#0L,Date#1,Weekly_Sales#2]\n",
            "\n",
            "\n"
          ],
          "name": "stdout"
        }
      ]
    },
    {
      "cell_type": "code",
      "metadata": {
        "colab": {
          "base_uri": "https://localhost:8080/"
        },
        "id": "sXL4kmexSH0D",
        "outputId": "23c0f09e-e29d-4cc0-d168-235ed96221ac"
      },
      "source": [
        "results.coalesce(1) #unpartiion"
      ],
      "execution_count": 110,
      "outputs": [
        {
          "output_type": "execute_result",
          "data": {
            "text/plain": [
              "DataFrame[ds: timestamp, id: int, y: double, yhat: double, yhat_upper: double, yhat_lower: double, training_date: date]"
            ]
          },
          "metadata": {
            "tags": []
          },
          "execution_count": 110
        }
      ]
    },
    {
      "cell_type": "code",
      "metadata": {
        "colab": {
          "base_uri": "https://localhost:8080/"
        },
        "id": "9nj260kgSMa7",
        "outputId": "8f73af45-9295-43f6-d90c-44f6fbd63ca9"
      },
      "source": [
        "results.count()"
      ],
      "execution_count": 111,
      "outputs": [
        {
          "output_type": "execute_result",
          "data": {
            "text/plain": [
              "158682"
            ]
          },
          "metadata": {
            "tags": []
          },
          "execution_count": 111
        }
      ]
    },
    {
      "cell_type": "code",
      "metadata": {
        "id": "G4Zj9bWYPnhD"
      },
      "source": [
        "results.createOrReplaceTempView('forecasted')"
      ],
      "execution_count": 112,
      "outputs": []
    },
    {
      "cell_type": "code",
      "metadata": {
        "colab": {
          "base_uri": "https://localhost:8080/"
        },
        "id": "GLQys5g8CUzz",
        "outputId": "e9b5778f-6679-4fdb-cd31-8656010b224f"
      },
      "source": [
        "spark.sql(\"select id, count(*) from forecasted group by id\").show()"
      ],
      "execution_count": 113,
      "outputs": [
        {
          "output_type": "stream",
          "text": [
            "+---+--------+\n",
            "| id|count(1)|\n",
            "+---+--------+\n",
            "|148|     159|\n",
            "|463|     159|\n",
            "|471|     159|\n",
            "|496|     159|\n",
            "|833|     159|\n",
            "|243|     159|\n",
            "|392|     159|\n",
            "|540|     159|\n",
            "|623|     159|\n",
            "|737|     159|\n",
            "|858|     159|\n",
            "|897|     159|\n",
            "| 31|     159|\n",
            "|516|     159|\n",
            "| 85|     159|\n",
            "|137|     159|\n",
            "|251|     159|\n",
            "|451|     159|\n",
            "|580|     159|\n",
            "|808|     159|\n",
            "+---+--------+\n",
            "only showing top 20 rows\n",
            "\n"
          ],
          "name": "stdout"
        }
      ]
    },
    {
      "cell_type": "code",
      "metadata": {
        "id": "dhCPlXG_PczA"
      },
      "source": [
        "final_df = results.toPandas()"
      ],
      "execution_count": 157,
      "outputs": []
    },
    {
      "cell_type": "code",
      "metadata": {
        "colab": {
          "base_uri": "https://localhost:8080/",
          "height": 204
        },
        "id": "DPIh8rJvTcAA",
        "outputId": "41d19698-7605-46d4-9063-5ab1446f2bf7"
      },
      "source": [
        "df.tail()"
      ],
      "execution_count": 158,
      "outputs": [
        {
          "output_type": "execute_result",
          "data": {
            "text/html": [
              "<div>\n",
              "<style scoped>\n",
              "    .dataframe tbody tr th:only-of-type {\n",
              "        vertical-align: middle;\n",
              "    }\n",
              "\n",
              "    .dataframe tbody tr th {\n",
              "        vertical-align: top;\n",
              "    }\n",
              "\n",
              "    .dataframe thead th {\n",
              "        text-align: right;\n",
              "    }\n",
              "</style>\n",
              "<table border=\"1\" class=\"dataframe\">\n",
              "  <thead>\n",
              "    <tr style=\"text-align: right;\">\n",
              "      <th></th>\n",
              "      <th>id</th>\n",
              "      <th>Date</th>\n",
              "      <th>Weekly_Sales</th>\n",
              "    </tr>\n",
              "  </thead>\n",
              "  <tbody>\n",
              "    <tr>\n",
              "      <th>142710</th>\n",
              "      <td>998</td>\n",
              "      <td>2016-09-28</td>\n",
              "      <td>4364.69</td>\n",
              "    </tr>\n",
              "    <tr>\n",
              "      <th>142711</th>\n",
              "      <td>998</td>\n",
              "      <td>2016-10-05</td>\n",
              "      <td>7322.07</td>\n",
              "    </tr>\n",
              "    <tr>\n",
              "      <th>142712</th>\n",
              "      <td>998</td>\n",
              "      <td>2016-10-12</td>\n",
              "      <td>7733.20</td>\n",
              "    </tr>\n",
              "    <tr>\n",
              "      <th>142713</th>\n",
              "      <td>998</td>\n",
              "      <td>2016-10-19</td>\n",
              "      <td>5355.52</td>\n",
              "    </tr>\n",
              "    <tr>\n",
              "      <th>142714</th>\n",
              "      <td>998</td>\n",
              "      <td>2016-10-26</td>\n",
              "      <td>7106.74</td>\n",
              "    </tr>\n",
              "  </tbody>\n",
              "</table>\n",
              "</div>"
            ],
            "text/plain": [
              "         id       Date  Weekly_Sales\n",
              "142710  998 2016-09-28       4364.69\n",
              "142711  998 2016-10-05       7322.07\n",
              "142712  998 2016-10-12       7733.20\n",
              "142713  998 2016-10-19       5355.52\n",
              "142714  998 2016-10-26       7106.74"
            ]
          },
          "metadata": {
            "tags": []
          },
          "execution_count": 158
        }
      ]
    },
    {
      "cell_type": "code",
      "metadata": {
        "colab": {
          "base_uri": "https://localhost:8080/",
          "height": 419
        },
        "id": "LPX69_FBKBeh",
        "outputId": "1d20f444-cd90-4d1e-8b2f-f759b505f0d1"
      },
      "source": [
        "final_df.head(144)"
      ],
      "execution_count": 159,
      "outputs": [
        {
          "output_type": "execute_result",
          "data": {
            "text/html": [
              "<div>\n",
              "<style scoped>\n",
              "    .dataframe tbody tr th:only-of-type {\n",
              "        vertical-align: middle;\n",
              "    }\n",
              "\n",
              "    .dataframe tbody tr th {\n",
              "        vertical-align: top;\n",
              "    }\n",
              "\n",
              "    .dataframe thead th {\n",
              "        text-align: right;\n",
              "    }\n",
              "</style>\n",
              "<table border=\"1\" class=\"dataframe\">\n",
              "  <thead>\n",
              "    <tr style=\"text-align: right;\">\n",
              "      <th></th>\n",
              "      <th>ds</th>\n",
              "      <th>id</th>\n",
              "      <th>y</th>\n",
              "      <th>yhat</th>\n",
              "      <th>yhat_upper</th>\n",
              "      <th>yhat_lower</th>\n",
              "      <th>training_date</th>\n",
              "    </tr>\n",
              "  </thead>\n",
              "  <tbody>\n",
              "    <tr>\n",
              "      <th>0</th>\n",
              "      <td>2014-02-05</td>\n",
              "      <td>1</td>\n",
              "      <td>1707.77</td>\n",
              "      <td>2153.890616</td>\n",
              "      <td>4276.870336</td>\n",
              "      <td>-2.262419</td>\n",
              "      <td>2021-06-26</td>\n",
              "    </tr>\n",
              "    <tr>\n",
              "      <th>1</th>\n",
              "      <td>2014-02-12</td>\n",
              "      <td>1</td>\n",
              "      <td>1890.97</td>\n",
              "      <td>2364.142151</td>\n",
              "      <td>4479.486163</td>\n",
              "      <td>27.102685</td>\n",
              "      <td>2021-06-26</td>\n",
              "    </tr>\n",
              "    <tr>\n",
              "      <th>2</th>\n",
              "      <td>2014-02-19</td>\n",
              "      <td>1</td>\n",
              "      <td>2008.39</td>\n",
              "      <td>2089.999850</td>\n",
              "      <td>4590.067819</td>\n",
              "      <td>-336.257642</td>\n",
              "      <td>2021-06-26</td>\n",
              "    </tr>\n",
              "    <tr>\n",
              "      <th>3</th>\n",
              "      <td>2014-02-26</td>\n",
              "      <td>1</td>\n",
              "      <td>1366.83</td>\n",
              "      <td>1769.810361</td>\n",
              "      <td>3983.815124</td>\n",
              "      <td>-718.963262</td>\n",
              "      <td>2021-06-26</td>\n",
              "    </tr>\n",
              "    <tr>\n",
              "      <th>4</th>\n",
              "      <td>2014-03-05</td>\n",
              "      <td>1</td>\n",
              "      <td>1492.00</td>\n",
              "      <td>1646.712176</td>\n",
              "      <td>3866.265039</td>\n",
              "      <td>-566.563685</td>\n",
              "      <td>2021-06-26</td>\n",
              "    </tr>\n",
              "    <tr>\n",
              "      <th>...</th>\n",
              "      <td>...</td>\n",
              "      <td>...</td>\n",
              "      <td>...</td>\n",
              "      <td>...</td>\n",
              "      <td>...</td>\n",
              "      <td>...</td>\n",
              "      <td>...</td>\n",
              "    </tr>\n",
              "    <tr>\n",
              "      <th>139</th>\n",
              "      <td>2016-10-05</td>\n",
              "      <td>1</td>\n",
              "      <td>3534.87</td>\n",
              "      <td>3665.040340</td>\n",
              "      <td>5810.054099</td>\n",
              "      <td>1593.154085</td>\n",
              "      <td>2021-06-26</td>\n",
              "    </tr>\n",
              "    <tr>\n",
              "      <th>140</th>\n",
              "      <td>2016-10-12</td>\n",
              "      <td>1</td>\n",
              "      <td>3074.26</td>\n",
              "      <td>4576.605890</td>\n",
              "      <td>6776.706301</td>\n",
              "      <td>2256.847937</td>\n",
              "      <td>2021-06-26</td>\n",
              "    </tr>\n",
              "    <tr>\n",
              "      <th>141</th>\n",
              "      <td>2016-10-19</td>\n",
              "      <td>1</td>\n",
              "      <td>2977.80</td>\n",
              "      <td>5155.839988</td>\n",
              "      <td>7326.978288</td>\n",
              "      <td>2689.176001</td>\n",
              "      <td>2021-06-26</td>\n",
              "    </tr>\n",
              "    <tr>\n",
              "      <th>142</th>\n",
              "      <td>2016-10-26</td>\n",
              "      <td>1</td>\n",
              "      <td>1934.51</td>\n",
              "      <td>5009.922035</td>\n",
              "      <td>7237.305071</td>\n",
              "      <td>2648.475459</td>\n",
              "      <td>2021-06-26</td>\n",
              "    </tr>\n",
              "    <tr>\n",
              "      <th>143</th>\n",
              "      <td>2016-11-02</td>\n",
              "      <td>1</td>\n",
              "      <td>NaN</td>\n",
              "      <td>4151.249991</td>\n",
              "      <td>6407.531383</td>\n",
              "      <td>1899.960534</td>\n",
              "      <td>2021-06-26</td>\n",
              "    </tr>\n",
              "  </tbody>\n",
              "</table>\n",
              "<p>144 rows × 7 columns</p>\n",
              "</div>"
            ],
            "text/plain": [
              "            ds  id        y  ...   yhat_upper   yhat_lower  training_date\n",
              "0   2014-02-05   1  1707.77  ...  4276.870336    -2.262419     2021-06-26\n",
              "1   2014-02-12   1  1890.97  ...  4479.486163    27.102685     2021-06-26\n",
              "2   2014-02-19   1  2008.39  ...  4590.067819  -336.257642     2021-06-26\n",
              "3   2014-02-26   1  1366.83  ...  3983.815124  -718.963262     2021-06-26\n",
              "4   2014-03-05   1  1492.00  ...  3866.265039  -566.563685     2021-06-26\n",
              "..         ...  ..      ...  ...          ...          ...            ...\n",
              "139 2016-10-05   1  3534.87  ...  5810.054099  1593.154085     2021-06-26\n",
              "140 2016-10-12   1  3074.26  ...  6776.706301  2256.847937     2021-06-26\n",
              "141 2016-10-19   1  2977.80  ...  7326.978288  2689.176001     2021-06-26\n",
              "142 2016-10-26   1  1934.51  ...  7237.305071  2648.475459     2021-06-26\n",
              "143 2016-11-02   1      NaN  ...  6407.531383  1899.960534     2021-06-26\n",
              "\n",
              "[144 rows x 7 columns]"
            ]
          },
          "metadata": {
            "tags": []
          },
          "execution_count": 159
        }
      ]
    },
    {
      "cell_type": "code",
      "metadata": {
        "id": "jtc2_p12KBbO"
      },
      "source": [
        "final_df=final_df.set_index('ds')"
      ],
      "execution_count": 160,
      "outputs": []
    },
    {
      "cell_type": "code",
      "metadata": {
        "colab": {
          "base_uri": "https://localhost:8080/",
          "height": 525
        },
        "id": "7CKgGuh_KBYX",
        "outputId": "48ba76c9-8151-4d99-8e96-238212ce1d22"
      },
      "source": [
        "final_df.query('id==44')[['y','yhat']].plot()"
      ],
      "execution_count": 161,
      "outputs": [
        {
          "output_type": "execute_result",
          "data": {
            "text/plain": [
              "<matplotlib.axes._subplots.AxesSubplot at 0x7f57b28f8c10>"
            ]
          },
          "metadata": {
            "tags": []
          },
          "execution_count": 161
        },
        {
          "output_type": "display_data",
          "data": {
            "image/png": "[encoded data removed]",
            "text/plain": [
              "<Figure size 720x576 with 1 Axes>"
            ]
          },
          "metadata": {
            "tags": [],
            "needs_background": "light"
          }
        }
      ]
    },
    {
      "cell_type": "code",
      "metadata": {
        "colab": {
          "base_uri": "https://localhost:8080/",
          "height": 525
        },
        "id": "r11ePm2TvAfz",
        "outputId": "c2cb7b39-4269-460d-c921-6fb50f13e54e"
      },
      "source": [
        "final_df.query('id==26')[['y','yhat']].plot() "
      ],
      "execution_count": 162,
      "outputs": [
        {
          "output_type": "execute_result",
          "data": {
            "text/plain": [
              "<matplotlib.axes._subplots.AxesSubplot at 0x7f57b2696bd0>"
            ]
          },
          "metadata": {
            "tags": []
          },
          "execution_count": 162
        },
        {
          "output_type": "display_data",
          "data": {
            "image/png": "[encoded data removed]",
            "text/plain": [
              "<Figure size 720x576 with 1 Axes>"
            ]
          },
          "metadata": {
            "tags": [],
            "needs_background": "light"
          }
        }
      ]
    },
    {
      "cell_type": "code",
      "metadata": {
        "colab": {
          "base_uri": "https://localhost:8080/",
          "height": 525
        },
        "id": "wnvd3OdXKBU1",
        "outputId": "1e93972c-b675-43c0-a69e-dd1cd6fae208"
      },
      "source": [
        "final_df.query('id==31')[['y','yhat']].plot()"
      ],
      "execution_count": 163,
      "outputs": [
        {
          "output_type": "execute_result",
          "data": {
            "text/plain": [
              "<matplotlib.axes._subplots.AxesSubplot at 0x7f57b2a4cbd0>"
            ]
          },
          "metadata": {
            "tags": []
          },
          "execution_count": 163
        },
        {
          "output_type": "display_data",
          "data": {
            "image/png": "[encoded data removed]",
            "text/plain": [
              "<Figure size 720x576 with 1 Axes>"
            ]
          },
          "metadata": {
            "tags": [],
            "needs_background": "light"
          }
        }
      ]
    },
    {
      "cell_type": "code",
      "metadata": {
        "colab": {
          "base_uri": "https://localhost:8080/",
          "height": 204
        },
        "id": "ZlPHeOSTKBRd",
        "outputId": "c35e821d-6082-4b59-80a5-cf2d8d1b5408"
      },
      "source": [
        "data = final_df.copy()\n",
        "data.tail()"
      ],
      "execution_count": 173,
      "outputs": [
        {
          "output_type": "execute_result",
          "data": {
            "text/html": [
              "<div>\n",
              "<style scoped>\n",
              "    .dataframe tbody tr th:only-of-type {\n",
              "        vertical-align: middle;\n",
              "    }\n",
              "\n",
              "    .dataframe tbody tr th {\n",
              "        vertical-align: top;\n",
              "    }\n",
              "\n",
              "    .dataframe thead th {\n",
              "        text-align: right;\n",
              "    }\n",
              "</style>\n",
              "<table border=\"1\" class=\"dataframe\">\n",
              "  <thead>\n",
              "    <tr style=\"text-align: right;\">\n",
              "      <th></th>\n",
              "      <th>ds</th>\n",
              "      <th>id</th>\n",
              "      <th>y</th>\n",
              "      <th>yhat</th>\n",
              "      <th>yhat_upper</th>\n",
              "      <th>yhat_lower</th>\n",
              "      <th>training_date</th>\n",
              "    </tr>\n",
              "  </thead>\n",
              "  <tbody>\n",
              "    <tr>\n",
              "      <th>158677</th>\n",
              "      <td>2017-01-18</td>\n",
              "      <td>998</td>\n",
              "      <td>NaN</td>\n",
              "      <td>3981.348485</td>\n",
              "      <td>6578.010161</td>\n",
              "      <td>1399.329133</td>\n",
              "      <td>2021-06-26</td>\n",
              "    </tr>\n",
              "    <tr>\n",
              "      <th>158678</th>\n",
              "      <td>2017-01-25</td>\n",
              "      <td>998</td>\n",
              "      <td>NaN</td>\n",
              "      <td>5523.472988</td>\n",
              "      <td>8185.758247</td>\n",
              "      <td>3059.872197</td>\n",
              "      <td>2021-06-26</td>\n",
              "    </tr>\n",
              "    <tr>\n",
              "      <th>158679</th>\n",
              "      <td>2017-02-01</td>\n",
              "      <td>998</td>\n",
              "      <td>NaN</td>\n",
              "      <td>7124.644684</td>\n",
              "      <td>9682.470679</td>\n",
              "      <td>4477.904325</td>\n",
              "      <td>2021-06-26</td>\n",
              "    </tr>\n",
              "    <tr>\n",
              "      <th>158680</th>\n",
              "      <td>2017-02-08</td>\n",
              "      <td>998</td>\n",
              "      <td>NaN</td>\n",
              "      <td>7973.195039</td>\n",
              "      <td>10467.408914</td>\n",
              "      <td>5202.546816</td>\n",
              "      <td>2021-06-26</td>\n",
              "    </tr>\n",
              "    <tr>\n",
              "      <th>158681</th>\n",
              "      <td>2017-02-15</td>\n",
              "      <td>998</td>\n",
              "      <td>NaN</td>\n",
              "      <td>7945.723286</td>\n",
              "      <td>10494.186361</td>\n",
              "      <td>5167.517857</td>\n",
              "      <td>2021-06-26</td>\n",
              "    </tr>\n",
              "  </tbody>\n",
              "</table>\n",
              "</div>"
            ],
            "text/plain": [
              "               ds   id   y  ...    yhat_upper   yhat_lower  training_date\n",
              "158677 2017-01-18  998 NaN  ...   6578.010161  1399.329133     2021-06-26\n",
              "158678 2017-01-25  998 NaN  ...   8185.758247  3059.872197     2021-06-26\n",
              "158679 2017-02-01  998 NaN  ...   9682.470679  4477.904325     2021-06-26\n",
              "158680 2017-02-08  998 NaN  ...  10467.408914  5202.546816     2021-06-26\n",
              "158681 2017-02-15  998 NaN  ...  10494.186361  5167.517857     2021-06-26\n",
              "\n",
              "[5 rows x 7 columns]"
            ]
          },
          "metadata": {
            "tags": []
          },
          "execution_count": 173
        }
      ]
    },
    {
      "cell_type": "code",
      "metadata": {
        "id": "FmdLetUcI-zT"
      },
      "source": [
        "df_copy = df.set_index('Date')"
      ],
      "execution_count": 165,
      "outputs": []
    },
    {
      "cell_type": "code",
      "metadata": {
        "colab": {
          "base_uri": "https://localhost:8080/",
          "height": 235
        },
        "id": "M4kPYRUgO8Ox",
        "outputId": "8cc95059-0543-461e-ae1c-508472434773"
      },
      "source": [
        "df_copy.head()"
      ],
      "execution_count": 166,
      "outputs": [
        {
          "output_type": "execute_result",
          "data": {
            "text/html": [
              "<div>\n",
              "<style scoped>\n",
              "    .dataframe tbody tr th:only-of-type {\n",
              "        vertical-align: middle;\n",
              "    }\n",
              "\n",
              "    .dataframe tbody tr th {\n",
              "        vertical-align: top;\n",
              "    }\n",
              "\n",
              "    .dataframe thead th {\n",
              "        text-align: right;\n",
              "    }\n",
              "</style>\n",
              "<table border=\"1\" class=\"dataframe\">\n",
              "  <thead>\n",
              "    <tr style=\"text-align: right;\">\n",
              "      <th></th>\n",
              "      <th>id</th>\n",
              "      <th>Weekly_Sales</th>\n",
              "    </tr>\n",
              "    <tr>\n",
              "      <th>Date</th>\n",
              "      <th></th>\n",
              "      <th></th>\n",
              "    </tr>\n",
              "  </thead>\n",
              "  <tbody>\n",
              "    <tr>\n",
              "      <th>2014-02-05</th>\n",
              "      <td>1</td>\n",
              "      <td>1707.77</td>\n",
              "    </tr>\n",
              "    <tr>\n",
              "      <th>2014-02-12</th>\n",
              "      <td>1</td>\n",
              "      <td>1890.97</td>\n",
              "    </tr>\n",
              "    <tr>\n",
              "      <th>2014-02-19</th>\n",
              "      <td>1</td>\n",
              "      <td>2008.39</td>\n",
              "    </tr>\n",
              "    <tr>\n",
              "      <th>2014-02-26</th>\n",
              "      <td>1</td>\n",
              "      <td>1366.83</td>\n",
              "    </tr>\n",
              "    <tr>\n",
              "      <th>2014-03-05</th>\n",
              "      <td>1</td>\n",
              "      <td>1492.00</td>\n",
              "    </tr>\n",
              "  </tbody>\n",
              "</table>\n",
              "</div>"
            ],
            "text/plain": [
              "            id  Weekly_Sales\n",
              "Date                        \n",
              "2014-02-05   1       1707.77\n",
              "2014-02-12   1       1890.97\n",
              "2014-02-19   1       2008.39\n",
              "2014-02-26   1       1366.83\n",
              "2014-03-05   1       1492.00"
            ]
          },
          "metadata": {
            "tags": []
          },
          "execution_count": 166
        }
      ]
    },
    {
      "cell_type": "code",
      "metadata": {
        "colab": {
          "base_uri": "https://localhost:8080/"
        },
        "id": "7N0lqcJivdj2",
        "outputId": "ec67a539-6a56-4e76-a650-311337d181cb"
      },
      "source": [
        "start_date = pd.date_range(start=df_copy.index.max(), periods=1, freq='W-WED')\n",
        "print (start_date[0])"
      ],
      "execution_count": 168,
      "outputs": [
        {
          "output_type": "stream",
          "text": [
            "2016-11-02 00:00:00\n"
          ],
          "name": "stdout"
        }
      ]
    },
    {
      "cell_type": "code",
      "metadata": {
        "id": "bzI7z6_g7dfB"
      },
      "source": [
        "final_df.reset_index(inplace=True)"
      ],
      "execution_count": 169,
      "outputs": []
    },
    {
      "cell_type": "code",
      "metadata": {
        "colab": {
          "base_uri": "https://localhost:8080/",
          "height": 204
        },
        "id": "jx9El3Bt6F8J",
        "outputId": "fdba4b78-8c98-4b42-8288-f6841bb3004f"
      },
      "source": [
        "next_week_sales = final_df.loc[final_df['ds'].isin([start_date[0]])]\n",
        "next_week_sales.head()"
      ],
      "execution_count": 208,
      "outputs": [
        {
          "output_type": "execute_result",
          "data": {
            "text/html": [
              "<div>\n",
              "<style scoped>\n",
              "    .dataframe tbody tr th:only-of-type {\n",
              "        vertical-align: middle;\n",
              "    }\n",
              "\n",
              "    .dataframe tbody tr th {\n",
              "        vertical-align: top;\n",
              "    }\n",
              "\n",
              "    .dataframe thead th {\n",
              "        text-align: right;\n",
              "    }\n",
              "</style>\n",
              "<table border=\"1\" class=\"dataframe\">\n",
              "  <thead>\n",
              "    <tr style=\"text-align: right;\">\n",
              "      <th></th>\n",
              "      <th>ds</th>\n",
              "      <th>id</th>\n",
              "      <th>y</th>\n",
              "      <th>yhat</th>\n",
              "      <th>yhat_upper</th>\n",
              "      <th>yhat_lower</th>\n",
              "      <th>training_date</th>\n",
              "    </tr>\n",
              "  </thead>\n",
              "  <tbody>\n",
              "    <tr>\n",
              "      <th>143</th>\n",
              "      <td>2016-11-02</td>\n",
              "      <td>1</td>\n",
              "      <td>NaN</td>\n",
              "      <td>4151.249991</td>\n",
              "      <td>6407.531383</td>\n",
              "      <td>1899.960534</td>\n",
              "      <td>2021-06-26</td>\n",
              "    </tr>\n",
              "    <tr>\n",
              "      <th>302</th>\n",
              "      <td>2016-11-02</td>\n",
              "      <td>2</td>\n",
              "      <td>NaN</td>\n",
              "      <td>22432.300739</td>\n",
              "      <td>27589.650572</td>\n",
              "      <td>17218.347042</td>\n",
              "      <td>2021-06-26</td>\n",
              "    </tr>\n",
              "    <tr>\n",
              "      <th>461</th>\n",
              "      <td>2016-11-02</td>\n",
              "      <td>3</td>\n",
              "      <td>NaN</td>\n",
              "      <td>4866.453429</td>\n",
              "      <td>6072.028350</td>\n",
              "      <td>3694.613502</td>\n",
              "      <td>2021-06-26</td>\n",
              "    </tr>\n",
              "    <tr>\n",
              "      <th>620</th>\n",
              "      <td>2016-11-02</td>\n",
              "      <td>4</td>\n",
              "      <td>NaN</td>\n",
              "      <td>1606.795210</td>\n",
              "      <td>3026.550435</td>\n",
              "      <td>234.867210</td>\n",
              "      <td>2021-06-26</td>\n",
              "    </tr>\n",
              "    <tr>\n",
              "      <th>779</th>\n",
              "      <td>2016-11-02</td>\n",
              "      <td>5</td>\n",
              "      <td>NaN</td>\n",
              "      <td>12757.208691</td>\n",
              "      <td>15737.878489</td>\n",
              "      <td>10061.980474</td>\n",
              "      <td>2021-06-26</td>\n",
              "    </tr>\n",
              "  </tbody>\n",
              "</table>\n",
              "</div>"
            ],
            "text/plain": [
              "            ds  id   y          yhat    yhat_upper    yhat_lower training_date\n",
              "143 2016-11-02   1 NaN   4151.249991   6407.531383   1899.960534    2021-06-26\n",
              "302 2016-11-02   2 NaN  22432.300739  27589.650572  17218.347042    2021-06-26\n",
              "461 2016-11-02   3 NaN   4866.453429   6072.028350   3694.613502    2021-06-26\n",
              "620 2016-11-02   4 NaN   1606.795210   3026.550435    234.867210    2021-06-26\n",
              "779 2016-11-02   5 NaN  12757.208691  15737.878489  10061.980474    2021-06-26"
            ]
          },
          "metadata": {
            "tags": []
          },
          "execution_count": 208
        }
      ]
    },
    {
      "cell_type": "code",
      "metadata": {
        "colab": {
          "base_uri": "https://localhost:8080/",
          "height": 204
        },
        "id": "zW02oKPQd8E9",
        "outputId": "a7de994d-60ea-4915-ac63-9383c71403e2"
      },
      "source": [
        "four_month_sales = final_df.loc[(final_df['ds'] > start_date[0])]\n",
        "four_month_sales.head()"
      ],
      "execution_count": 209,
      "outputs": [
        {
          "output_type": "execute_result",
          "data": {
            "text/html": [
              "<div>\n",
              "<style scoped>\n",
              "    .dataframe tbody tr th:only-of-type {\n",
              "        vertical-align: middle;\n",
              "    }\n",
              "\n",
              "    .dataframe tbody tr th {\n",
              "        vertical-align: top;\n",
              "    }\n",
              "\n",
              "    .dataframe thead th {\n",
              "        text-align: right;\n",
              "    }\n",
              "</style>\n",
              "<table border=\"1\" class=\"dataframe\">\n",
              "  <thead>\n",
              "    <tr style=\"text-align: right;\">\n",
              "      <th></th>\n",
              "      <th>ds</th>\n",
              "      <th>id</th>\n",
              "      <th>y</th>\n",
              "      <th>yhat</th>\n",
              "      <th>yhat_upper</th>\n",
              "      <th>yhat_lower</th>\n",
              "      <th>training_date</th>\n",
              "    </tr>\n",
              "  </thead>\n",
              "  <tbody>\n",
              "    <tr>\n",
              "      <th>144</th>\n",
              "      <td>2016-11-09</td>\n",
              "      <td>1</td>\n",
              "      <td>NaN</td>\n",
              "      <td>2915.870494</td>\n",
              "      <td>5048.696726</td>\n",
              "      <td>609.883096</td>\n",
              "      <td>2021-06-26</td>\n",
              "    </tr>\n",
              "    <tr>\n",
              "      <th>145</th>\n",
              "      <td>2016-11-16</td>\n",
              "      <td>1</td>\n",
              "      <td>NaN</td>\n",
              "      <td>1829.102431</td>\n",
              "      <td>4068.002155</td>\n",
              "      <td>-388.855489</td>\n",
              "      <td>2021-06-26</td>\n",
              "    </tr>\n",
              "    <tr>\n",
              "      <th>146</th>\n",
              "      <td>2016-11-23</td>\n",
              "      <td>1</td>\n",
              "      <td>NaN</td>\n",
              "      <td>1479.999037</td>\n",
              "      <td>3672.622750</td>\n",
              "      <td>-847.752953</td>\n",
              "      <td>2021-06-26</td>\n",
              "    </tr>\n",
              "    <tr>\n",
              "      <th>147</th>\n",
              "      <td>2016-11-30</td>\n",
              "      <td>1</td>\n",
              "      <td>NaN</td>\n",
              "      <td>2252.734814</td>\n",
              "      <td>4578.405967</td>\n",
              "      <td>181.698865</td>\n",
              "      <td>2021-06-26</td>\n",
              "    </tr>\n",
              "    <tr>\n",
              "      <th>148</th>\n",
              "      <td>2016-12-07</td>\n",
              "      <td>1</td>\n",
              "      <td>NaN</td>\n",
              "      <td>3934.785038</td>\n",
              "      <td>6304.629607</td>\n",
              "      <td>1716.406468</td>\n",
              "      <td>2021-06-26</td>\n",
              "    </tr>\n",
              "  </tbody>\n",
              "</table>\n",
              "</div>"
            ],
            "text/plain": [
              "            ds  id   y         yhat   yhat_upper   yhat_lower training_date\n",
              "144 2016-11-09   1 NaN  2915.870494  5048.696726   609.883096    2021-06-26\n",
              "145 2016-11-16   1 NaN  1829.102431  4068.002155  -388.855489    2021-06-26\n",
              "146 2016-11-23   1 NaN  1479.999037  3672.622750  -847.752953    2021-06-26\n",
              "147 2016-11-30   1 NaN  2252.734814  4578.405967   181.698865    2021-06-26\n",
              "148 2016-12-07   1 NaN  3934.785038  6304.629607  1716.406468    2021-06-26"
            ]
          },
          "metadata": {
            "tags": []
          },
          "execution_count": 209
        }
      ]
    },
    {
      "cell_type": "code",
      "metadata": {
        "colab": {
          "base_uri": "https://localhost:8080/",
          "height": 204
        },
        "id": "dnVbyWg4ThNc",
        "outputId": "115b077b-c5d1-4218-fad5-8c4077c9a0e6"
      },
      "source": [
        "dataset = pd.read_csv('/content/fyp_dataset.csv')\n",
        "dataset.head()"
      ],
      "execution_count": 210,
      "outputs": [
        {
          "output_type": "execute_result",
          "data": {
            "text/html": [
              "<div>\n",
              "<style scoped>\n",
              "    .dataframe tbody tr th:only-of-type {\n",
              "        vertical-align: middle;\n",
              "    }\n",
              "\n",
              "    .dataframe tbody tr th {\n",
              "        vertical-align: top;\n",
              "    }\n",
              "\n",
              "    .dataframe thead th {\n",
              "        text-align: right;\n",
              "    }\n",
              "</style>\n",
              "<table border=\"1\" class=\"dataframe\">\n",
              "  <thead>\n",
              "    <tr style=\"text-align: right;\">\n",
              "      <th></th>\n",
              "      <th>asins</th>\n",
              "      <th>brand</th>\n",
              "      <th>categories</th>\n",
              "      <th>id</th>\n",
              "      <th>name</th>\n",
              "      <th>Price</th>\n",
              "    </tr>\n",
              "  </thead>\n",
              "  <tbody>\n",
              "    <tr>\n",
              "      <th>0</th>\n",
              "      <td>B07DLYQ2R2</td>\n",
              "      <td>ALPINE REMEDY</td>\n",
              "      <td>Skin Care</td>\n",
              "      <td>1</td>\n",
              "      <td>[ALPINE REMEDY] Blooming Cream 50ml  BEST Kor...</td>\n",
              "      <td>3292.0</td>\n",
              "    </tr>\n",
              "    <tr>\n",
              "      <th>1</th>\n",
              "      <td>B01M0PPX6F</td>\n",
              "      <td>Proud2beskin</td>\n",
              "      <td>Skin Care</td>\n",
              "      <td>2</td>\n",
              "      <td>[HOLIKA HOLIKA] Black Caviar Anti-Wrinkle Eye...</td>\n",
              "      <td>5785.0</td>\n",
              "    </tr>\n",
              "    <tr>\n",
              "      <th>2</th>\n",
              "      <td>B07FPW4LSV</td>\n",
              "      <td>Holika Holika</td>\n",
              "      <td>Skin Care</td>\n",
              "      <td>3</td>\n",
              "      <td>[Holika Holika] Spot Band Patch V Zone Patch 8g</td>\n",
              "      <td>2050.0</td>\n",
              "    </tr>\n",
              "    <tr>\n",
              "      <th>3</th>\n",
              "      <td>B00OOFIDHY</td>\n",
              "      <td>Innisfree</td>\n",
              "      <td>Skin Care</td>\n",
              "      <td>4</td>\n",
              "      <td>[Innisfree] Soybean Energy Essence Light 150ml</td>\n",
              "      <td>3089.0</td>\n",
              "    </tr>\n",
              "    <tr>\n",
              "      <th>4</th>\n",
              "      <td>B01N9K8CCZ</td>\n",
              "      <td>Leaders Insolution</td>\n",
              "      <td>Skin Care</td>\n",
              "      <td>5</td>\n",
              "      <td>[Leaders Insolution] Brightening Recovery Mas...</td>\n",
              "      <td>8458.0</td>\n",
              "    </tr>\n",
              "  </tbody>\n",
              "</table>\n",
              "</div>"
            ],
            "text/plain": [
              "        asins  ...   Price\n",
              "0  B07DLYQ2R2  ...  3292.0\n",
              "1  B01M0PPX6F  ...  5785.0\n",
              "2  B07FPW4LSV  ...  2050.0\n",
              "3  B00OOFIDHY  ...  3089.0\n",
              "4  B01N9K8CCZ  ...  8458.0\n",
              "\n",
              "[5 rows x 6 columns]"
            ]
          },
          "metadata": {
            "tags": []
          },
          "execution_count": 210
        }
      ]
    },
    {
      "cell_type": "code",
      "metadata": {
        "colab": {
          "base_uri": "https://localhost:8080/",
          "height": 649
        },
        "id": "YJbGGFf3XUox",
        "outputId": "6df47c7d-6f65-4730-dd0e-e0678349d1d4"
      },
      "source": [
        "next_week_df = pd.merge(next_week_sales,dataset,on='id',how='left')\n",
        "next_week_df.head()"
      ],
      "execution_count": 211,
      "outputs": [
        {
          "output_type": "execute_result",
          "data": {
            "text/html": [
              "<div>\n",
              "<style scoped>\n",
              "    .dataframe tbody tr th:only-of-type {\n",
              "        vertical-align: middle;\n",
              "    }\n",
              "\n",
              "    .dataframe tbody tr th {\n",
              "        vertical-align: top;\n",
              "    }\n",
              "\n",
              "    .dataframe thead th {\n",
              "        text-align: right;\n",
              "    }\n",
              "</style>\n",
              "<table border=\"1\" class=\"dataframe\">\n",
              "  <thead>\n",
              "    <tr style=\"text-align: right;\">\n",
              "      <th></th>\n",
              "      <th>ds</th>\n",
              "      <th>id</th>\n",
              "      <th>y</th>\n",
              "      <th>yhat</th>\n",
              "      <th>yhat_upper</th>\n",
              "      <th>yhat_lower</th>\n",
              "      <th>training_date</th>\n",
              "      <th>asins</th>\n",
              "      <th>brand</th>\n",
              "      <th>categories</th>\n",
              "      <th>name</th>\n",
              "      <th>Price</th>\n",
              "    </tr>\n",
              "  </thead>\n",
              "  <tbody>\n",
              "    <tr>\n",
              "      <th>0</th>\n",
              "      <td>2016-11-02</td>\n",
              "      <td>1</td>\n",
              "      <td>NaN</td>\n",
              "      <td>4151.249991</td>\n",
              "      <td>6407.531383</td>\n",
              "      <td>1899.960534</td>\n",
              "      <td>2021-06-26</td>\n",
              "      <td>B07DLYQ2R2</td>\n",
              "      <td>ALPINE REMEDY</td>\n",
              "      <td>Skin Care</td>\n",
              "      <td>[ALPINE REMEDY] Blooming Cream 50ml  BEST Kor...</td>\n",
              "      <td>3292.0</td>\n",
              "    </tr>\n",
              "    <tr>\n",
              "      <th>1</th>\n",
              "      <td>2016-11-02</td>\n",
              "      <td>2</td>\n",
              "      <td>NaN</td>\n",
              "      <td>22432.300739</td>\n",
              "      <td>27589.650572</td>\n",
              "      <td>17218.347042</td>\n",
              "      <td>2021-06-26</td>\n",
              "      <td>B01M0PPX6F</td>\n",
              "      <td>Proud2beskin</td>\n",
              "      <td>Skin Care</td>\n",
              "      <td>[HOLIKA HOLIKA] Black Caviar Anti-Wrinkle Eye...</td>\n",
              "      <td>5785.0</td>\n",
              "    </tr>\n",
              "    <tr>\n",
              "      <th>2</th>\n",
              "      <td>2016-11-02</td>\n",
              "      <td>3</td>\n",
              "      <td>NaN</td>\n",
              "      <td>4866.453429</td>\n",
              "      <td>6072.028350</td>\n",
              "      <td>3694.613502</td>\n",
              "      <td>2021-06-26</td>\n",
              "      <td>B07FPW4LSV</td>\n",
              "      <td>Holika Holika</td>\n",
              "      <td>Skin Care</td>\n",
              "      <td>[Holika Holika] Spot Band Patch V Zone Patch 8g</td>\n",
              "      <td>2050.0</td>\n",
              "    </tr>\n",
              "    <tr>\n",
              "      <th>3</th>\n",
              "      <td>2016-11-02</td>\n",
              "      <td>4</td>\n",
              "      <td>NaN</td>\n",
              "      <td>1606.795210</td>\n",
              "      <td>3026.550435</td>\n",
              "      <td>234.867210</td>\n",
              "      <td>2021-06-26</td>\n",
              "      <td>B00OOFIDHY</td>\n",
              "      <td>Innisfree</td>\n",
              "      <td>Skin Care</td>\n",
              "      <td>[Innisfree] Soybean Energy Essence Light 150ml</td>\n",
              "      <td>3089.0</td>\n",
              "    </tr>\n",
              "    <tr>\n",
              "      <th>4</th>\n",
              "      <td>2016-11-02</td>\n",
              "      <td>5</td>\n",
              "      <td>NaN</td>\n",
              "      <td>12757.208691</td>\n",
              "      <td>15737.878489</td>\n",
              "      <td>10061.980474</td>\n",
              "      <td>2021-06-26</td>\n",
              "      <td>B01N9K8CCZ</td>\n",
              "      <td>Leaders Insolution</td>\n",
              "      <td>Skin Care</td>\n",
              "      <td>[Leaders Insolution] Brightening Recovery Mas...</td>\n",
              "      <td>8458.0</td>\n",
              "    </tr>\n",
              "  </tbody>\n",
              "</table>\n",
              "</div>"
            ],
            "text/plain": [
              "          ds  id  ...                                               name   Price\n",
              "0 2016-11-02   1  ...   [ALPINE REMEDY] Blooming Cream 50ml  BEST Kor...  3292.0\n",
              "1 2016-11-02   2  ...   [HOLIKA HOLIKA] Black Caviar Anti-Wrinkle Eye...  5785.0\n",
              "2 2016-11-02   3  ...   [Holika Holika] Spot Band Patch V Zone Patch 8g   2050.0\n",
              "3 2016-11-02   4  ...    [Innisfree] Soybean Energy Essence Light 150ml   3089.0\n",
              "4 2016-11-02   5  ...   [Leaders Insolution] Brightening Recovery Mas...  8458.0\n",
              "\n",
              "[5 rows x 12 columns]"
            ]
          },
          "metadata": {
            "tags": []
          },
          "execution_count": 211
        }
      ]
    },
    {
      "cell_type": "code",
      "metadata": {
        "colab": {
          "base_uri": "https://localhost:8080/",
          "height": 289
        },
        "id": "Cfvn1NBdgOPu",
        "outputId": "1d980888-adb0-4df7-f312-07415cb87dce"
      },
      "source": [
        "four_month_sales_df = pd.merge(four_month_sales,dataset,on='id',how='left')\n",
        "four_month_sales_df.head()"
      ],
      "execution_count": 212,
      "outputs": [
        {
          "output_type": "execute_result",
          "data": {
            "text/html": [
              "<div>\n",
              "<style scoped>\n",
              "    .dataframe tbody tr th:only-of-type {\n",
              "        vertical-align: middle;\n",
              "    }\n",
              "\n",
              "    .dataframe tbody tr th {\n",
              "        vertical-align: top;\n",
              "    }\n",
              "\n",
              "    .dataframe thead th {\n",
              "        text-align: right;\n",
              "    }\n",
              "</style>\n",
              "<table border=\"1\" class=\"dataframe\">\n",
              "  <thead>\n",
              "    <tr style=\"text-align: right;\">\n",
              "      <th></th>\n",
              "      <th>ds</th>\n",
              "      <th>id</th>\n",
              "      <th>y</th>\n",
              "      <th>yhat</th>\n",
              "      <th>yhat_upper</th>\n",
              "      <th>yhat_lower</th>\n",
              "      <th>training_date</th>\n",
              "      <th>asins</th>\n",
              "      <th>brand</th>\n",
              "      <th>categories</th>\n",
              "      <th>name</th>\n",
              "      <th>Price</th>\n",
              "    </tr>\n",
              "  </thead>\n",
              "  <tbody>\n",
              "    <tr>\n",
              "      <th>0</th>\n",
              "      <td>2016-11-09</td>\n",
              "      <td>1</td>\n",
              "      <td>NaN</td>\n",
              "      <td>2915.870494</td>\n",
              "      <td>5048.696726</td>\n",
              "      <td>609.883096</td>\n",
              "      <td>2021-06-26</td>\n",
              "      <td>B07DLYQ2R2</td>\n",
              "      <td>ALPINE REMEDY</td>\n",
              "      <td>Skin Care</td>\n",
              "      <td>[ALPINE REMEDY] Blooming Cream 50ml  BEST Kor...</td>\n",
              "      <td>3292.0</td>\n",
              "    </tr>\n",
              "    <tr>\n",
              "      <th>1</th>\n",
              "      <td>2016-11-16</td>\n",
              "      <td>1</td>\n",
              "      <td>NaN</td>\n",
              "      <td>1829.102431</td>\n",
              "      <td>4068.002155</td>\n",
              "      <td>-388.855489</td>\n",
              "      <td>2021-06-26</td>\n",
              "      <td>B07DLYQ2R2</td>\n",
              "      <td>ALPINE REMEDY</td>\n",
              "      <td>Skin Care</td>\n",
              "      <td>[ALPINE REMEDY] Blooming Cream 50ml  BEST Kor...</td>\n",
              "      <td>3292.0</td>\n",
              "    </tr>\n",
              "    <tr>\n",
              "      <th>2</th>\n",
              "      <td>2016-11-23</td>\n",
              "      <td>1</td>\n",
              "      <td>NaN</td>\n",
              "      <td>1479.999037</td>\n",
              "      <td>3672.622750</td>\n",
              "      <td>-847.752953</td>\n",
              "      <td>2021-06-26</td>\n",
              "      <td>B07DLYQ2R2</td>\n",
              "      <td>ALPINE REMEDY</td>\n",
              "      <td>Skin Care</td>\n",
              "      <td>[ALPINE REMEDY] Blooming Cream 50ml  BEST Kor...</td>\n",
              "      <td>3292.0</td>\n",
              "    </tr>\n",
              "    <tr>\n",
              "      <th>3</th>\n",
              "      <td>2016-11-30</td>\n",
              "      <td>1</td>\n",
              "      <td>NaN</td>\n",
              "      <td>2252.734814</td>\n",
              "      <td>4578.405967</td>\n",
              "      <td>181.698865</td>\n",
              "      <td>2021-06-26</td>\n",
              "      <td>B07DLYQ2R2</td>\n",
              "      <td>ALPINE REMEDY</td>\n",
              "      <td>Skin Care</td>\n",
              "      <td>[ALPINE REMEDY] Blooming Cream 50ml  BEST Kor...</td>\n",
              "      <td>3292.0</td>\n",
              "    </tr>\n",
              "    <tr>\n",
              "      <th>4</th>\n",
              "      <td>2016-12-07</td>\n",
              "      <td>1</td>\n",
              "      <td>NaN</td>\n",
              "      <td>3934.785038</td>\n",
              "      <td>6304.629607</td>\n",
              "      <td>1716.406468</td>\n",
              "      <td>2021-06-26</td>\n",
              "      <td>B07DLYQ2R2</td>\n",
              "      <td>ALPINE REMEDY</td>\n",
              "      <td>Skin Care</td>\n",
              "      <td>[ALPINE REMEDY] Blooming Cream 50ml  BEST Kor...</td>\n",
              "      <td>3292.0</td>\n",
              "    </tr>\n",
              "  </tbody>\n",
              "</table>\n",
              "</div>"
            ],
            "text/plain": [
              "          ds  id  ...                                               name   Price\n",
              "0 2016-11-09   1  ...   [ALPINE REMEDY] Blooming Cream 50ml  BEST Kor...  3292.0\n",
              "1 2016-11-16   1  ...   [ALPINE REMEDY] Blooming Cream 50ml  BEST Kor...  3292.0\n",
              "2 2016-11-23   1  ...   [ALPINE REMEDY] Blooming Cream 50ml  BEST Kor...  3292.0\n",
              "3 2016-11-30   1  ...   [ALPINE REMEDY] Blooming Cream 50ml  BEST Kor...  3292.0\n",
              "4 2016-12-07   1  ...   [ALPINE REMEDY] Blooming Cream 50ml  BEST Kor...  3292.0\n",
              "\n",
              "[5 rows x 12 columns]"
            ]
          },
          "metadata": {
            "tags": []
          },
          "execution_count": 212
        }
      ]
    },
    {
      "cell_type": "code",
      "metadata": {
        "colab": {
          "base_uri": "https://localhost:8080/",
          "height": 204
        },
        "id": "OHCzv2yUX3ZC",
        "outputId": "3f65de3e-da38-4742-9f31-b314ee033625"
      },
      "source": [
        "next_week_df =next_week_df.drop(['y','yhat_upper','yhat_lower','training_date'], axis=1)\n",
        "next_week_df.head()"
      ],
      "execution_count": 213,
      "outputs": [
        {
          "output_type": "execute_result",
          "data": {
            "text/html": [
              "<div>\n",
              "<style scoped>\n",
              "    .dataframe tbody tr th:only-of-type {\n",
              "        vertical-align: middle;\n",
              "    }\n",
              "\n",
              "    .dataframe tbody tr th {\n",
              "        vertical-align: top;\n",
              "    }\n",
              "\n",
              "    .dataframe thead th {\n",
              "        text-align: right;\n",
              "    }\n",
              "</style>\n",
              "<table border=\"1\" class=\"dataframe\">\n",
              "  <thead>\n",
              "    <tr style=\"text-align: right;\">\n",
              "      <th></th>\n",
              "      <th>ds</th>\n",
              "      <th>id</th>\n",
              "      <th>yhat</th>\n",
              "      <th>asins</th>\n",
              "      <th>brand</th>\n",
              "      <th>categories</th>\n",
              "      <th>name</th>\n",
              "      <th>Price</th>\n",
              "    </tr>\n",
              "  </thead>\n",
              "  <tbody>\n",
              "    <tr>\n",
              "      <th>0</th>\n",
              "      <td>2016-11-02</td>\n",
              "      <td>1</td>\n",
              "      <td>4151.249991</td>\n",
              "      <td>B07DLYQ2R2</td>\n",
              "      <td>ALPINE REMEDY</td>\n",
              "      <td>Skin Care</td>\n",
              "      <td>[ALPINE REMEDY] Blooming Cream 50ml  BEST Kor...</td>\n",
              "      <td>3292.0</td>\n",
              "    </tr>\n",
              "    <tr>\n",
              "      <th>1</th>\n",
              "      <td>2016-11-02</td>\n",
              "      <td>2</td>\n",
              "      <td>22432.300739</td>\n",
              "      <td>B01M0PPX6F</td>\n",
              "      <td>Proud2beskin</td>\n",
              "      <td>Skin Care</td>\n",
              "      <td>[HOLIKA HOLIKA] Black Caviar Anti-Wrinkle Eye...</td>\n",
              "      <td>5785.0</td>\n",
              "    </tr>\n",
              "    <tr>\n",
              "      <th>2</th>\n",
              "      <td>2016-11-02</td>\n",
              "      <td>3</td>\n",
              "      <td>4866.453429</td>\n",
              "      <td>B07FPW4LSV</td>\n",
              "      <td>Holika Holika</td>\n",
              "      <td>Skin Care</td>\n",
              "      <td>[Holika Holika] Spot Band Patch V Zone Patch 8g</td>\n",
              "      <td>2050.0</td>\n",
              "    </tr>\n",
              "    <tr>\n",
              "      <th>3</th>\n",
              "      <td>2016-11-02</td>\n",
              "      <td>4</td>\n",
              "      <td>1606.795210</td>\n",
              "      <td>B00OOFIDHY</td>\n",
              "      <td>Innisfree</td>\n",
              "      <td>Skin Care</td>\n",
              "      <td>[Innisfree] Soybean Energy Essence Light 150ml</td>\n",
              "      <td>3089.0</td>\n",
              "    </tr>\n",
              "    <tr>\n",
              "      <th>4</th>\n",
              "      <td>2016-11-02</td>\n",
              "      <td>5</td>\n",
              "      <td>12757.208691</td>\n",
              "      <td>B01N9K8CCZ</td>\n",
              "      <td>Leaders Insolution</td>\n",
              "      <td>Skin Care</td>\n",
              "      <td>[Leaders Insolution] Brightening Recovery Mas...</td>\n",
              "      <td>8458.0</td>\n",
              "    </tr>\n",
              "  </tbody>\n",
              "</table>\n",
              "</div>"
            ],
            "text/plain": [
              "          ds  id  ...                                               name   Price\n",
              "0 2016-11-02   1  ...   [ALPINE REMEDY] Blooming Cream 50ml  BEST Kor...  3292.0\n",
              "1 2016-11-02   2  ...   [HOLIKA HOLIKA] Black Caviar Anti-Wrinkle Eye...  5785.0\n",
              "2 2016-11-02   3  ...   [Holika Holika] Spot Band Patch V Zone Patch 8g   2050.0\n",
              "3 2016-11-02   4  ...    [Innisfree] Soybean Energy Essence Light 150ml   3089.0\n",
              "4 2016-11-02   5  ...   [Leaders Insolution] Brightening Recovery Mas...  8458.0\n",
              "\n",
              "[5 rows x 8 columns]"
            ]
          },
          "metadata": {
            "tags": []
          },
          "execution_count": 213
        }
      ]
    },
    {
      "cell_type": "code",
      "metadata": {
        "colab": {
          "base_uri": "https://localhost:8080/",
          "height": 204
        },
        "id": "_WbpfQHngZMJ",
        "outputId": "4832536d-a94c-4834-8934-936b49f8c55a"
      },
      "source": [
        "four_month_sales_df = four_month_sales_df.drop(['y','yhat_lower','training_date'], axis=1)\n"
      ],
      "execution_count": 214,
      "outputs": [
        {
          "output_type": "execute_result",
          "data": {
            "text/html": [
              "<div>\n",
              "<style scoped>\n",
              "    .dataframe tbody tr th:only-of-type {\n",
              "        vertical-align: middle;\n",
              "    }\n",
              "\n",
              "    .dataframe tbody tr th {\n",
              "        vertical-align: top;\n",
              "    }\n",
              "\n",
              "    .dataframe thead th {\n",
              "        text-align: right;\n",
              "    }\n",
              "</style>\n",
              "<table border=\"1\" class=\"dataframe\">\n",
              "  <thead>\n",
              "    <tr style=\"text-align: right;\">\n",
              "      <th></th>\n",
              "      <th>ds</th>\n",
              "      <th>id</th>\n",
              "      <th>y</th>\n",
              "      <th>yhat</th>\n",
              "      <th>yhat_upper</th>\n",
              "      <th>yhat_lower</th>\n",
              "      <th>training_date</th>\n",
              "    </tr>\n",
              "  </thead>\n",
              "  <tbody>\n",
              "    <tr>\n",
              "      <th>144</th>\n",
              "      <td>2016-11-09</td>\n",
              "      <td>1</td>\n",
              "      <td>NaN</td>\n",
              "      <td>2915.870494</td>\n",
              "      <td>5048.696726</td>\n",
              "      <td>609.883096</td>\n",
              "      <td>2021-06-26</td>\n",
              "    </tr>\n",
              "    <tr>\n",
              "      <th>145</th>\n",
              "      <td>2016-11-16</td>\n",
              "      <td>1</td>\n",
              "      <td>NaN</td>\n",
              "      <td>1829.102431</td>\n",
              "      <td>4068.002155</td>\n",
              "      <td>-388.855489</td>\n",
              "      <td>2021-06-26</td>\n",
              "    </tr>\n",
              "    <tr>\n",
              "      <th>146</th>\n",
              "      <td>2016-11-23</td>\n",
              "      <td>1</td>\n",
              "      <td>NaN</td>\n",
              "      <td>1479.999037</td>\n",
              "      <td>3672.622750</td>\n",
              "      <td>-847.752953</td>\n",
              "      <td>2021-06-26</td>\n",
              "    </tr>\n",
              "    <tr>\n",
              "      <th>147</th>\n",
              "      <td>2016-11-30</td>\n",
              "      <td>1</td>\n",
              "      <td>NaN</td>\n",
              "      <td>2252.734814</td>\n",
              "      <td>4578.405967</td>\n",
              "      <td>181.698865</td>\n",
              "      <td>2021-06-26</td>\n",
              "    </tr>\n",
              "    <tr>\n",
              "      <th>148</th>\n",
              "      <td>2016-12-07</td>\n",
              "      <td>1</td>\n",
              "      <td>NaN</td>\n",
              "      <td>3934.785038</td>\n",
              "      <td>6304.629607</td>\n",
              "      <td>1716.406468</td>\n",
              "      <td>2021-06-26</td>\n",
              "    </tr>\n",
              "  </tbody>\n",
              "</table>\n",
              "</div>"
            ],
            "text/plain": [
              "            ds  id   y         yhat   yhat_upper   yhat_lower training_date\n",
              "144 2016-11-09   1 NaN  2915.870494  5048.696726   609.883096    2021-06-26\n",
              "145 2016-11-16   1 NaN  1829.102431  4068.002155  -388.855489    2021-06-26\n",
              "146 2016-11-23   1 NaN  1479.999037  3672.622750  -847.752953    2021-06-26\n",
              "147 2016-11-30   1 NaN  2252.734814  4578.405967   181.698865    2021-06-26\n",
              "148 2016-12-07   1 NaN  3934.785038  6304.629607  1716.406468    2021-06-26"
            ]
          },
          "metadata": {
            "tags": []
          },
          "execution_count": 214
        }
      ]
    },
    {
      "cell_type": "code",
      "metadata": {
        "colab": {
          "base_uri": "https://localhost:8080/",
          "height": 204
        },
        "id": "-STTr6RciDty",
        "outputId": "f63b613b-68da-4f76-b4bd-34c4b8314a69"
      },
      "source": [
        "four_month_sales_df.head()"
      ],
      "execution_count": 215,
      "outputs": [
        {
          "output_type": "execute_result",
          "data": {
            "text/html": [
              "<div>\n",
              "<style scoped>\n",
              "    .dataframe tbody tr th:only-of-type {\n",
              "        vertical-align: middle;\n",
              "    }\n",
              "\n",
              "    .dataframe tbody tr th {\n",
              "        vertical-align: top;\n",
              "    }\n",
              "\n",
              "    .dataframe thead th {\n",
              "        text-align: right;\n",
              "    }\n",
              "</style>\n",
              "<table border=\"1\" class=\"dataframe\">\n",
              "  <thead>\n",
              "    <tr style=\"text-align: right;\">\n",
              "      <th></th>\n",
              "      <th>ds</th>\n",
              "      <th>id</th>\n",
              "      <th>yhat</th>\n",
              "      <th>yhat_upper</th>\n",
              "      <th>asins</th>\n",
              "      <th>brand</th>\n",
              "      <th>categories</th>\n",
              "      <th>name</th>\n",
              "      <th>Price</th>\n",
              "    </tr>\n",
              "  </thead>\n",
              "  <tbody>\n",
              "    <tr>\n",
              "      <th>0</th>\n",
              "      <td>2016-11-09</td>\n",
              "      <td>1</td>\n",
              "      <td>2915.870494</td>\n",
              "      <td>5048.696726</td>\n",
              "      <td>B07DLYQ2R2</td>\n",
              "      <td>ALPINE REMEDY</td>\n",
              "      <td>Skin Care</td>\n",
              "      <td>[ALPINE REMEDY] Blooming Cream 50ml  BEST Kor...</td>\n",
              "      <td>3292.0</td>\n",
              "    </tr>\n",
              "    <tr>\n",
              "      <th>1</th>\n",
              "      <td>2016-11-16</td>\n",
              "      <td>1</td>\n",
              "      <td>1829.102431</td>\n",
              "      <td>4068.002155</td>\n",
              "      <td>B07DLYQ2R2</td>\n",
              "      <td>ALPINE REMEDY</td>\n",
              "      <td>Skin Care</td>\n",
              "      <td>[ALPINE REMEDY] Blooming Cream 50ml  BEST Kor...</td>\n",
              "      <td>3292.0</td>\n",
              "    </tr>\n",
              "    <tr>\n",
              "      <th>2</th>\n",
              "      <td>2016-11-23</td>\n",
              "      <td>1</td>\n",
              "      <td>1479.999037</td>\n",
              "      <td>3672.622750</td>\n",
              "      <td>B07DLYQ2R2</td>\n",
              "      <td>ALPINE REMEDY</td>\n",
              "      <td>Skin Care</td>\n",
              "      <td>[ALPINE REMEDY] Blooming Cream 50ml  BEST Kor...</td>\n",
              "      <td>3292.0</td>\n",
              "    </tr>\n",
              "    <tr>\n",
              "      <th>3</th>\n",
              "      <td>2016-11-30</td>\n",
              "      <td>1</td>\n",
              "      <td>2252.734814</td>\n",
              "      <td>4578.405967</td>\n",
              "      <td>B07DLYQ2R2</td>\n",
              "      <td>ALPINE REMEDY</td>\n",
              "      <td>Skin Care</td>\n",
              "      <td>[ALPINE REMEDY] Blooming Cream 50ml  BEST Kor...</td>\n",
              "      <td>3292.0</td>\n",
              "    </tr>\n",
              "    <tr>\n",
              "      <th>4</th>\n",
              "      <td>2016-12-07</td>\n",
              "      <td>1</td>\n",
              "      <td>3934.785038</td>\n",
              "      <td>6304.629607</td>\n",
              "      <td>B07DLYQ2R2</td>\n",
              "      <td>ALPINE REMEDY</td>\n",
              "      <td>Skin Care</td>\n",
              "      <td>[ALPINE REMEDY] Blooming Cream 50ml  BEST Kor...</td>\n",
              "      <td>3292.0</td>\n",
              "    </tr>\n",
              "  </tbody>\n",
              "</table>\n",
              "</div>"
            ],
            "text/plain": [
              "          ds  id  ...                                               name   Price\n",
              "0 2016-11-09   1  ...   [ALPINE REMEDY] Blooming Cream 50ml  BEST Kor...  3292.0\n",
              "1 2016-11-16   1  ...   [ALPINE REMEDY] Blooming Cream 50ml  BEST Kor...  3292.0\n",
              "2 2016-11-23   1  ...   [ALPINE REMEDY] Blooming Cream 50ml  BEST Kor...  3292.0\n",
              "3 2016-11-30   1  ...   [ALPINE REMEDY] Blooming Cream 50ml  BEST Kor...  3292.0\n",
              "4 2016-12-07   1  ...   [ALPINE REMEDY] Blooming Cream 50ml  BEST Kor...  3292.0\n",
              "\n",
              "[5 rows x 9 columns]"
            ]
          },
          "metadata": {
            "tags": []
          },
          "execution_count": 215
        }
      ]
    },
    {
      "cell_type": "code",
      "metadata": {
        "colab": {
          "base_uri": "https://localhost:8080/",
          "height": 204
        },
        "id": "vjQUye3ugnJr",
        "outputId": "5f5ec7f3-e18a-41b0-ea20-cf0cd67ff68e"
      },
      "source": [
        "next_week_df =next_week_df.rename(columns={ 'ds': 'Date', 'yhat': 'sales'})\n",
        "next_week_df.head()"
      ],
      "execution_count": 218,
      "outputs": [
        {
          "output_type": "execute_result",
          "data": {
            "text/html": [
              "<div>\n",
              "<style scoped>\n",
              "    .dataframe tbody tr th:only-of-type {\n",
              "        vertical-align: middle;\n",
              "    }\n",
              "\n",
              "    .dataframe tbody tr th {\n",
              "        vertical-align: top;\n",
              "    }\n",
              "\n",
              "    .dataframe thead th {\n",
              "        text-align: right;\n",
              "    }\n",
              "</style>\n",
              "<table border=\"1\" class=\"dataframe\">\n",
              "  <thead>\n",
              "    <tr style=\"text-align: right;\">\n",
              "      <th></th>\n",
              "      <th>Date</th>\n",
              "      <th>id</th>\n",
              "      <th>sales</th>\n",
              "      <th>asins</th>\n",
              "      <th>brand</th>\n",
              "      <th>categories</th>\n",
              "      <th>name</th>\n",
              "      <th>Price</th>\n",
              "    </tr>\n",
              "  </thead>\n",
              "  <tbody>\n",
              "    <tr>\n",
              "      <th>0</th>\n",
              "      <td>2016-11-02</td>\n",
              "      <td>1</td>\n",
              "      <td>4151.249991</td>\n",
              "      <td>B07DLYQ2R2</td>\n",
              "      <td>ALPINE REMEDY</td>\n",
              "      <td>Skin Care</td>\n",
              "      <td>[ALPINE REMEDY] Blooming Cream 50ml  BEST Kor...</td>\n",
              "      <td>3292.0</td>\n",
              "    </tr>\n",
              "    <tr>\n",
              "      <th>1</th>\n",
              "      <td>2016-11-02</td>\n",
              "      <td>2</td>\n",
              "      <td>22432.300739</td>\n",
              "      <td>B01M0PPX6F</td>\n",
              "      <td>Proud2beskin</td>\n",
              "      <td>Skin Care</td>\n",
              "      <td>[HOLIKA HOLIKA] Black Caviar Anti-Wrinkle Eye...</td>\n",
              "      <td>5785.0</td>\n",
              "    </tr>\n",
              "    <tr>\n",
              "      <th>2</th>\n",
              "      <td>2016-11-02</td>\n",
              "      <td>3</td>\n",
              "      <td>4866.453429</td>\n",
              "      <td>B07FPW4LSV</td>\n",
              "      <td>Holika Holika</td>\n",
              "      <td>Skin Care</td>\n",
              "      <td>[Holika Holika] Spot Band Patch V Zone Patch 8g</td>\n",
              "      <td>2050.0</td>\n",
              "    </tr>\n",
              "    <tr>\n",
              "      <th>3</th>\n",
              "      <td>2016-11-02</td>\n",
              "      <td>4</td>\n",
              "      <td>1606.795210</td>\n",
              "      <td>B00OOFIDHY</td>\n",
              "      <td>Innisfree</td>\n",
              "      <td>Skin Care</td>\n",
              "      <td>[Innisfree] Soybean Energy Essence Light 150ml</td>\n",
              "      <td>3089.0</td>\n",
              "    </tr>\n",
              "    <tr>\n",
              "      <th>4</th>\n",
              "      <td>2016-11-02</td>\n",
              "      <td>5</td>\n",
              "      <td>12757.208691</td>\n",
              "      <td>B01N9K8CCZ</td>\n",
              "      <td>Leaders Insolution</td>\n",
              "      <td>Skin Care</td>\n",
              "      <td>[Leaders Insolution] Brightening Recovery Mas...</td>\n",
              "      <td>8458.0</td>\n",
              "    </tr>\n",
              "  </tbody>\n",
              "</table>\n",
              "</div>"
            ],
            "text/plain": [
              "        Date  id  ...                                               name   Price\n",
              "0 2016-11-02   1  ...   [ALPINE REMEDY] Blooming Cream 50ml  BEST Kor...  3292.0\n",
              "1 2016-11-02   2  ...   [HOLIKA HOLIKA] Black Caviar Anti-Wrinkle Eye...  5785.0\n",
              "2 2016-11-02   3  ...   [Holika Holika] Spot Band Patch V Zone Patch 8g   2050.0\n",
              "3 2016-11-02   4  ...    [Innisfree] Soybean Energy Essence Light 150ml   3089.0\n",
              "4 2016-11-02   5  ...   [Leaders Insolution] Brightening Recovery Mas...  8458.0\n",
              "\n",
              "[5 rows x 8 columns]"
            ]
          },
          "metadata": {
            "tags": []
          },
          "execution_count": 218
        }
      ]
    },
    {
      "cell_type": "code",
      "metadata": {
        "colab": {
          "base_uri": "https://localhost:8080/",
          "height": 204
        },
        "id": "AYr0sunMiYIR",
        "outputId": "f0e82141-3ba0-471c-a50f-b080d3959298"
      },
      "source": [
        "four_month_sales_df =four_month_sales_df.rename(columns={ 'ds': 'Date', 'yhat': 'sales'})\n",
        "four_month_sales_df.head()"
      ],
      "execution_count": 219,
      "outputs": [
        {
          "output_type": "execute_result",
          "data": {
            "text/html": [
              "<div>\n",
              "<style scoped>\n",
              "    .dataframe tbody tr th:only-of-type {\n",
              "        vertical-align: middle;\n",
              "    }\n",
              "\n",
              "    .dataframe tbody tr th {\n",
              "        vertical-align: top;\n",
              "    }\n",
              "\n",
              "    .dataframe thead th {\n",
              "        text-align: right;\n",
              "    }\n",
              "</style>\n",
              "<table border=\"1\" class=\"dataframe\">\n",
              "  <thead>\n",
              "    <tr style=\"text-align: right;\">\n",
              "      <th></th>\n",
              "      <th>Date</th>\n",
              "      <th>id</th>\n",
              "      <th>sales</th>\n",
              "      <th>yhat_upper</th>\n",
              "      <th>asins</th>\n",
              "      <th>brand</th>\n",
              "      <th>categories</th>\n",
              "      <th>name</th>\n",
              "      <th>Price</th>\n",
              "    </tr>\n",
              "  </thead>\n",
              "  <tbody>\n",
              "    <tr>\n",
              "      <th>0</th>\n",
              "      <td>2016-11-09</td>\n",
              "      <td>1</td>\n",
              "      <td>2915.870494</td>\n",
              "      <td>5048.696726</td>\n",
              "      <td>B07DLYQ2R2</td>\n",
              "      <td>ALPINE REMEDY</td>\n",
              "      <td>Skin Care</td>\n",
              "      <td>[ALPINE REMEDY] Blooming Cream 50ml  BEST Kor...</td>\n",
              "      <td>3292.0</td>\n",
              "    </tr>\n",
              "    <tr>\n",
              "      <th>1</th>\n",
              "      <td>2016-11-16</td>\n",
              "      <td>1</td>\n",
              "      <td>1829.102431</td>\n",
              "      <td>4068.002155</td>\n",
              "      <td>B07DLYQ2R2</td>\n",
              "      <td>ALPINE REMEDY</td>\n",
              "      <td>Skin Care</td>\n",
              "      <td>[ALPINE REMEDY] Blooming Cream 50ml  BEST Kor...</td>\n",
              "      <td>3292.0</td>\n",
              "    </tr>\n",
              "    <tr>\n",
              "      <th>2</th>\n",
              "      <td>2016-11-23</td>\n",
              "      <td>1</td>\n",
              "      <td>1479.999037</td>\n",
              "      <td>3672.622750</td>\n",
              "      <td>B07DLYQ2R2</td>\n",
              "      <td>ALPINE REMEDY</td>\n",
              "      <td>Skin Care</td>\n",
              "      <td>[ALPINE REMEDY] Blooming Cream 50ml  BEST Kor...</td>\n",
              "      <td>3292.0</td>\n",
              "    </tr>\n",
              "    <tr>\n",
              "      <th>3</th>\n",
              "      <td>2016-11-30</td>\n",
              "      <td>1</td>\n",
              "      <td>2252.734814</td>\n",
              "      <td>4578.405967</td>\n",
              "      <td>B07DLYQ2R2</td>\n",
              "      <td>ALPINE REMEDY</td>\n",
              "      <td>Skin Care</td>\n",
              "      <td>[ALPINE REMEDY] Blooming Cream 50ml  BEST Kor...</td>\n",
              "      <td>3292.0</td>\n",
              "    </tr>\n",
              "    <tr>\n",
              "      <th>4</th>\n",
              "      <td>2016-12-07</td>\n",
              "      <td>1</td>\n",
              "      <td>3934.785038</td>\n",
              "      <td>6304.629607</td>\n",
              "      <td>B07DLYQ2R2</td>\n",
              "      <td>ALPINE REMEDY</td>\n",
              "      <td>Skin Care</td>\n",
              "      <td>[ALPINE REMEDY] Blooming Cream 50ml  BEST Kor...</td>\n",
              "      <td>3292.0</td>\n",
              "    </tr>\n",
              "  </tbody>\n",
              "</table>\n",
              "</div>"
            ],
            "text/plain": [
              "        Date  id  ...                                               name   Price\n",
              "0 2016-11-09   1  ...   [ALPINE REMEDY] Blooming Cream 50ml  BEST Kor...  3292.0\n",
              "1 2016-11-16   1  ...   [ALPINE REMEDY] Blooming Cream 50ml  BEST Kor...  3292.0\n",
              "2 2016-11-23   1  ...   [ALPINE REMEDY] Blooming Cream 50ml  BEST Kor...  3292.0\n",
              "3 2016-11-30   1  ...   [ALPINE REMEDY] Blooming Cream 50ml  BEST Kor...  3292.0\n",
              "4 2016-12-07   1  ...   [ALPINE REMEDY] Blooming Cream 50ml  BEST Kor...  3292.0\n",
              "\n",
              "[5 rows x 9 columns]"
            ]
          },
          "metadata": {
            "tags": []
          },
          "execution_count": 219
        }
      ]
    },
    {
      "cell_type": "code",
      "metadata": {
        "id": "CotDlOEQijib"
      },
      "source": [
        "four_month_sales_df = four_month_sales_df.drop(columns='yhat_upper')"
      ],
      "execution_count": 230,
      "outputs": []
    },
    {
      "cell_type": "code",
      "metadata": {
        "colab": {
          "base_uri": "https://localhost:8080/"
        },
        "id": "2A2xv6FXZ-qj",
        "outputId": "1f132a69-3934-4e80-89a4-564bc74ee353"
      },
      "source": [
        "next_week_df.shape\n",
        "four_month_sales_df.shape"
      ],
      "execution_count": 223,
      "outputs": [
        {
          "output_type": "execute_result",
          "data": {
            "text/plain": [
              "(14970, 9)"
            ]
          },
          "metadata": {
            "tags": []
          },
          "execution_count": 223
        }
      ]
    },
    {
      "cell_type": "code",
      "metadata": {
        "id": "B8R2IWHLaQxs"
      },
      "source": [
        "next_week_df.to_csv('next_week_sales.csv', index=False)"
      ],
      "execution_count": 232,
      "outputs": []
    },
    {
      "cell_type": "code",
      "metadata": {
        "id": "TCeG2E6pjKbC"
      },
      "source": [
        "four_month_sales_df.to_csv('four_months_sales.csv', index=False)"
      ],
      "execution_count": 233,
      "outputs": []
    },
    {
      "cell_type": "code",
      "metadata": {
        "colab": {
          "base_uri": "https://localhost:8080/",
          "height": 17
        },
        "id": "kp5bAKQJbgof",
        "outputId": "8a2ac181-a7bb-473c-8c7c-a2b033572dc7"
      },
      "source": [
        "from google.colab import files"
      ],
      "execution_count": 227,
      "outputs": [
        {
          "output_type": "display_data",
          "data": {
            "application/javascript": [
              "\n",
              "    async function download(id, filename, size) {\n",
              "      if (!google.colab.kernel.accessAllowed) {\n",
              "        return;\n",
              "      }\n",
              "      const div = document.createElement('div');\n",
              "      const label = document.createElement('label');\n",
              "      label.textContent = `Downloading \"${filename}\": `;\n",
              "      div.appendChild(label);\n",
              "      const progress = document.createElement('progress');\n",
              "      progress.max = size;\n",
              "      div.appendChild(progress);\n",
              "      document.body.appendChild(div);\n",
              "\n",
              "      const buffers = [];\n",
              "      let downloaded = 0;\n",
              "\n",
              "      const channel = await google.colab.kernel.comms.open(id);\n",
              "      // Send a message to notify the kernel that we're ready.\n",
              "      channel.send({})\n",
              "\n",
              "      for await (const message of channel.messages) {\n",
              "        // Send a message to notify the kernel that we're ready.\n",
              "        channel.send({})\n",
              "        if (message.buffers) {\n",
              "          for (const buffer of message.buffers) {\n",
              "            buffers.push(buffer);\n",
              "            downloaded += buffer.byteLength;\n",
              "            progress.value = downloaded;\n",
              "          }\n",
              "        }\n",
              "      }\n",
              "      const blob = new Blob(buffers, {type: 'application/binary'});\n",
              "      const a = document.createElement('a');\n",
              "      a.href = window.URL.createObjectURL(blob);\n",
              "      a.download = filename;\n",
              "      div.appendChild(a);\n",
              "      a.click();\n",
              "      div.remove();\n",
              "    }\n",
              "  "
            ],
            "text/plain": [
              "<IPython.core.display.Javascript object>"
            ]
          },
          "metadata": {
            "tags": []
          }
        },
        {
          "output_type": "display_data",
          "data": {
            "application/javascript": [
              "download(\"download_9b70aced-c25d-4077-965f-737a6b3303c3\", \"next_week_sales.csv\", 170065)"
            ],
            "text/plain": [
              "<IPython.core.display.Javascript object>"
            ]
          },
          "metadata": {
            "tags": []
          }
        },
        {
          "output_type": "display_data",
          "data": {
            "application/javascript": [
              "\n",
              "    async function download(id, filename, size) {\n",
              "      if (!google.colab.kernel.accessAllowed) {\n",
              "        return;\n",
              "      }\n",
              "      const div = document.createElement('div');\n",
              "      const label = document.createElement('label');\n",
              "      label.textContent = `Downloading \"${filename}\": `;\n",
              "      div.appendChild(label);\n",
              "      const progress = document.createElement('progress');\n",
              "      progress.max = size;\n",
              "      div.appendChild(progress);\n",
              "      document.body.appendChild(div);\n",
              "\n",
              "      const buffers = [];\n",
              "      let downloaded = 0;\n",
              "\n",
              "      const channel = await google.colab.kernel.comms.open(id);\n",
              "      // Send a message to notify the kernel that we're ready.\n",
              "      channel.send({})\n",
              "\n",
              "      for await (const message of channel.messages) {\n",
              "        // Send a message to notify the kernel that we're ready.\n",
              "        channel.send({})\n",
              "        if (message.buffers) {\n",
              "          for (const buffer of message.buffers) {\n",
              "            buffers.push(buffer);\n",
              "            downloaded += buffer.byteLength;\n",
              "            progress.value = downloaded;\n",
              "          }\n",
              "        }\n",
              "      }\n",
              "      const blob = new Blob(buffers, {type: 'application/binary'});\n",
              "      const a = document.createElement('a');\n",
              "      a.href = window.URL.createObjectURL(blob);\n",
              "      a.download = filename;\n",
              "      div.appendChild(a);\n",
              "      a.click();\n",
              "      div.remove();\n",
              "    }\n",
              "  "
            ],
            "text/plain": [
              "<IPython.core.display.Javascript object>"
            ]
          },
          "metadata": {
            "tags": []
          }
        },
        {
          "output_type": "display_data",
          "data": {
            "application/javascript": [
              "download(\"download_ea838436-2435-4962-8d6e-3bc765f0f5d7\", \"four_months_sales.csv\", 2845761)"
            ],
            "text/plain": [
              "<IPython.core.display.Javascript object>"
            ]
          },
          "metadata": {
            "tags": []
          }
        }
      ]
    },
    {
      "cell_type": "code",
      "metadata": {
        "colab": {
          "base_uri": "https://localhost:8080/",
          "height": 17
        },
        "id": "6NGgWyY5jm_7",
        "outputId": "0d171625-0143-4f17-abe4-4305191d53f9"
      },
      "source": [
        "files.download('next_week_sales.csv')\n",
        "files.download('four_months_sales.csv')"
      ],
      "execution_count": 235,
      "outputs": [
        {
          "output_type": "display_data",
          "data": {
            "application/javascript": [
              "\n",
              "    async function download(id, filename, size) {\n",
              "      if (!google.colab.kernel.accessAllowed) {\n",
              "        return;\n",
              "      }\n",
              "      const div = document.createElement('div');\n",
              "      const label = document.createElement('label');\n",
              "      label.textContent = `Downloading \"${filename}\": `;\n",
              "      div.appendChild(label);\n",
              "      const progress = document.createElement('progress');\n",
              "      progress.max = size;\n",
              "      div.appendChild(progress);\n",
              "      document.body.appendChild(div);\n",
              "\n",
              "      const buffers = [];\n",
              "      let downloaded = 0;\n",
              "\n",
              "      const channel = await google.colab.kernel.comms.open(id);\n",
              "      // Send a message to notify the kernel that we're ready.\n",
              "      channel.send({})\n",
              "\n",
              "      for await (const message of channel.messages) {\n",
              "        // Send a message to notify the kernel that we're ready.\n",
              "        channel.send({})\n",
              "        if (message.buffers) {\n",
              "          for (const buffer of message.buffers) {\n",
              "            buffers.push(buffer);\n",
              "            downloaded += buffer.byteLength;\n",
              "            progress.value = downloaded;\n",
              "          }\n",
              "        }\n",
              "      }\n",
              "      const blob = new Blob(buffers, {type: 'application/binary'});\n",
              "      const a = document.createElement('a');\n",
              "      a.href = window.URL.createObjectURL(blob);\n",
              "      a.download = filename;\n",
              "      div.appendChild(a);\n",
              "      a.click();\n",
              "      div.remove();\n",
              "    }\n",
              "  "
            ],
            "text/plain": [
              "<IPython.core.display.Javascript object>"
            ]
          },
          "metadata": {
            "tags": []
          }
        },
        {
          "output_type": "display_data",
          "data": {
            "application/javascript": [
              "download(\"download_ad8f3aa7-c024-4738-9eb3-dac3126b3bc0\", \"next_week_sales.csv\", 166182)"
            ],
            "text/plain": [
              "<IPython.core.display.Javascript object>"
            ]
          },
          "metadata": {
            "tags": []
          }
        },
        {
          "output_type": "display_data",
          "data": {
            "application/javascript": [
              "\n",
              "    async function download(id, filename, size) {\n",
              "      if (!google.colab.kernel.accessAllowed) {\n",
              "        return;\n",
              "      }\n",
              "      const div = document.createElement('div');\n",
              "      const label = document.createElement('label');\n",
              "      label.textContent = `Downloading \"${filename}\": `;\n",
              "      div.appendChild(label);\n",
              "      const progress = document.createElement('progress');\n",
              "      progress.max = size;\n",
              "      div.appendChild(progress);\n",
              "      document.body.appendChild(div);\n",
              "\n",
              "      const buffers = [];\n",
              "      let downloaded = 0;\n",
              "\n",
              "      const channel = await google.colab.kernel.comms.open(id);\n",
              "      // Send a message to notify the kernel that we're ready.\n",
              "      channel.send({})\n",
              "\n",
              "      for await (const message of channel.messages) {\n",
              "        // Send a message to notify the kernel that we're ready.\n",
              "        channel.send({})\n",
              "        if (message.buffers) {\n",
              "          for (const buffer of message.buffers) {\n",
              "            buffers.push(buffer);\n",
              "            downloaded += buffer.byteLength;\n",
              "            progress.value = downloaded;\n",
              "          }\n",
              "        }\n",
              "      }\n",
              "      const blob = new Blob(buffers, {type: 'application/binary'});\n",
              "      const a = document.createElement('a');\n",
              "      a.href = window.URL.createObjectURL(blob);\n",
              "      a.download = filename;\n",
              "      div.appendChild(a);\n",
              "      a.click();\n",
              "      div.remove();\n",
              "    }\n",
              "  "
            ],
            "text/plain": [
              "<IPython.core.display.Javascript object>"
            ]
          },
          "metadata": {
            "tags": []
          }
        },
        {
          "output_type": "display_data",
          "data": {
            "application/javascript": [
              "download(\"download_1707f680-dc0c-4a4a-8bbf-3326ffa48858\", \"four_months_sales.csv\", 2492032)"
            ],
            "text/plain": [
              "<IPython.core.display.Javascript object>"
            ]
          },
          "metadata": {
            "tags": []
          }
        }
      ]
    },
    {
      "cell_type": "code",
      "metadata": {
        "colab": {
          "base_uri": "https://localhost:8080/"
        },
        "id": "6XavTswNTx4a",
        "outputId": "c8a27f7d-1be8-46bb-9c67-f912e094bc25"
      },
      "source": [
        "data.dropna(inplace=True)\n",
        "from sklearn.metrics import r2_score\n",
        "r2_score(data['y'],data['yhat'])"
      ],
      "execution_count": 174,
      "outputs": [
        {
          "output_type": "execute_result",
          "data": {
            "text/plain": [
              "0.9658516568956403"
            ]
          },
          "metadata": {
            "tags": []
          },
          "execution_count": 174
        }
      ]
    }
  ]
}