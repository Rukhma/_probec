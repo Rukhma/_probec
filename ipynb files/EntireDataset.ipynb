{
  "nbformat": 4,
  "nbformat_minor": 0,
  "metadata": {
    "colab": {
      "name": "EntireDataset.ipynb",
      "provenance": [],
      "collapsed_sections": []
    },
    "kernelspec": {
      "name": "python3",
      "display_name": "Python 3"
    },
    "language_info": {
      "name": "python"
    }
  },
  "cells": [
    {
      "cell_type": "code",
      "metadata": {
        "id": "b8h-srbgDHGE"
      },
      "source": [
        "import pandas as pd"
      ],
      "execution_count": 1,
      "outputs": []
    },
    {
      "cell_type": "code",
      "metadata": {
        "colab": {
          "base_uri": "https://localhost:8080/"
        },
        "id": "Z0gFXhfLDlB-",
        "outputId": "4a9f6af2-2934-401c-b6c2-7e2a5cd775ec"
      },
      "source": [
        "dataset = pd.read_csv('fyp_dataset_original.csv')"
      ],
      "execution_count": 2,
      "outputs": [
        {
          "output_type": "stream",
          "text": [
            "/usr/local/lib/python3.7/dist-packages/IPython/core/interactiveshell.py:2718: DtypeWarning: Columns (7) have mixed types.Specify dtype option on import or set low_memory=False.\n",
            "  interactivity=interactivity, compiler=compiler, result=result)\n"
          ],
          "name": "stderr"
        }
      ]
    },
    {
      "cell_type": "code",
      "metadata": {
        "colab": {
          "base_uri": "https://localhost:8080/",
          "height": 387
        },
        "id": "liN7m-HgDlFT",
        "outputId": "cf735c45-3c4a-41b9-8182-c0e45d0d18c7"
      },
      "source": [
        "prod_sales = pd.DataFrame(dataset.groupby('name').sum()['Weekly_Sales'])\n",
        "prod_sales.sort_values(by=['Weekly_Sales'], inplace=True, ascending=False)\n",
        "prod_sales[:10]"
      ],
      "execution_count": 3,
      "outputs": [
        {
          "output_type": "execute_result",
          "data": {
            "text/html": [
              "<div>\n",
              "<style scoped>\n",
              "    .dataframe tbody tr th:only-of-type {\n",
              "        vertical-align: middle;\n",
              "    }\n",
              "\n",
              "    .dataframe tbody tr th {\n",
              "        vertical-align: top;\n",
              "    }\n",
              "\n",
              "    .dataframe thead th {\n",
              "        text-align: right;\n",
              "    }\n",
              "</style>\n",
              "<table border=\"1\" class=\"dataframe\">\n",
              "  <thead>\n",
              "    <tr style=\"text-align: right;\">\n",
              "      <th></th>\n",
              "      <th>Weekly_Sales</th>\n",
              "    </tr>\n",
              "    <tr>\n",
              "      <th>name</th>\n",
              "      <th></th>\n",
              "    </tr>\n",
              "  </thead>\n",
              "  <tbody>\n",
              "    <tr>\n",
              "      <th>Gardens of Aroma  Rosehip Carrier Oil 200ml. Kalonji Essential Oil 10ml</th>\n",
              "      <td>23572153.03</td>\n",
              "    </tr>\n",
              "    <tr>\n",
              "      <th>Shrewas Goji Cream Especially Female Anti Aging Melanin Face Wrinkle Cream</th>\n",
              "      <td>23170876.20</td>\n",
              "    </tr>\n",
              "    <tr>\n",
              "      <th>Batiste Stylist Oomph My Locks XXL Volume Spray Shampoo, 200ml</th>\n",
              "      <td>22789210.43</td>\n",
              "    </tr>\n",
              "    <tr>\n",
              "      <th>EDT 100ml.\"Work@holics Base\" for men</th>\n",
              "      <td>21054815.74</td>\n",
              "    </tr>\n",
              "    <tr>\n",
              "      <th>Schwartz Pour Over Creamy White Wine &amp; Herbs  26G (0.06Lbs)</th>\n",
              "      <td>20533191.52</td>\n",
              "    </tr>\n",
              "    <tr>\n",
              "      <th>Khadi Natural Assorted Soap Gift Set (Sandalwood, Pure Mint and Aloevera) pack of 3 (With free Hindi Tulsi Booklet)KP02</th>\n",
              "      <td>20410926.56</td>\n",
              "    </tr>\n",
              "    <tr>\n",
              "      <th>PINK ROOT CUCUMBER GEL 500GM WITH CHARCOAL MASK 500GM</th>\n",
              "      <td>19568811.27</td>\n",
              "    </tr>\n",
              "    <tr>\n",
              "      <th>Certified Refurbished Echo Dot (2nd Generation) - Black</th>\n",
              "      <td>19370632.64</td>\n",
              "    </tr>\n",
              "    <tr>\n",
              "      <th>All-New Amazon Fire 7 Tablet Case (7th Generation</th>\n",
              "      <td>17270404.89</td>\n",
              "    </tr>\n",
              "    <tr>\n",
              "      <th>Stockout Colourpop NOVEMBER</th>\n",
              "      <td>16529671.45</td>\n",
              "    </tr>\n",
              "  </tbody>\n",
              "</table>\n",
              "</div>"
            ],
            "text/plain": [
              "                                                    Weekly_Sales\n",
              "name                                                            \n",
              " Gardens of Aroma  Rosehip Carrier Oil 200ml. K...   23572153.03\n",
              " Shrewas Goji Cream Especially Female Anti Agin...   23170876.20\n",
              " Batiste Stylist Oomph My Locks XXL Volume Spra...   22789210.43\n",
              " EDT 100ml.\"Work@holics Base\" for men                21054815.74\n",
              " Schwartz Pour Over Creamy White Wine & Herbs  ...   20533191.52\n",
              " Khadi Natural Assorted Soap Gift Set (Sandalwo...   20410926.56\n",
              " PINK ROOT CUCUMBER GEL 500GM WITH CHARCOAL MAS...   19568811.27\n",
              "Certified Refurbished Echo Dot (2nd Generation)...   19370632.64\n",
              "All-New Amazon Fire 7 Tablet Case (7th Generation    17270404.89\n",
              " Stockout Colourpop NOVEMBER                         16529671.45"
            ]
          },
          "metadata": {
            "tags": []
          },
          "execution_count": 3
        }
      ]
    },
    {
      "cell_type": "code",
      "metadata": {
        "colab": {
          "base_uri": "https://localhost:8080/",
          "height": 537
        },
        "id": "anDFLMp2DlQt",
        "outputId": "5e29b42e-1876-410e-b343-58f7116f185a"
      },
      "source": [
        "# Grouping products by Category\n",
        "cat = pd.DataFrame(dataset.groupby(['categories']).sum()['Weekly_Sales'])\n",
        "\n",
        "# Sorting the values\n",
        "cat.sort_values(['categories'], ascending=False)\n",
        "cat[:10]"
      ],
      "execution_count": 8,
      "outputs": [
        {
          "output_type": "execute_result",
          "data": {
            "text/html": [
              "<div>\n",
              "<style scoped>\n",
              "    .dataframe tbody tr th:only-of-type {\n",
              "        vertical-align: middle;\n",
              "    }\n",
              "\n",
              "    .dataframe tbody tr th {\n",
              "        vertical-align: top;\n",
              "    }\n",
              "\n",
              "    .dataframe thead th {\n",
              "        text-align: right;\n",
              "    }\n",
              "</style>\n",
              "<table border=\"1\" class=\"dataframe\">\n",
              "  <thead>\n",
              "    <tr style=\"text-align: right;\">\n",
              "      <th></th>\n",
              "      <th>Weekly_Sales</th>\n",
              "    </tr>\n",
              "    <tr>\n",
              "      <th>categories</th>\n",
              "      <th></th>\n",
              "    </tr>\n",
              "  </thead>\n",
              "  <tbody>\n",
              "    <tr>\n",
              "      <th>Accessories,Portable Power Banks,Portable Chargers/Power Packs,Cell Phones &amp; Accessories,Cell Phones,Portable Battery Packs,Cell Phone Accessories,Cell Phone Batteries &amp; Power,Batteries &amp; Battery Packs,cell,Power,Chargers &amp; Cradles</th>\n",
              "      <td>2.811808e+06</td>\n",
              "    </tr>\n",
              "    <tr>\n",
              "      <th>Amazon Devices</th>\n",
              "      <td>1.457109e+08</td>\n",
              "    </tr>\n",
              "    <tr>\n",
              "      <th>Amazon Devices &amp; Accessories,Amazon Device Accessories,Controllers &amp; Remote Controls,Kindle Store,Amazon Echo Accessories,Remote Controls</th>\n",
              "      <td>9.417670e+05</td>\n",
              "    </tr>\n",
              "    <tr>\n",
              "      <th>Amazon Devices &amp; Accessories,Amazon Device Accessories,Controllers &amp; Remote Controls,Kindle Store,Fire TV Accessories,Controllers &amp; Remotes,Controllers</th>\n",
              "      <td>1.381227e+06</td>\n",
              "    </tr>\n",
              "    <tr>\n",
              "      <th>Amazon Devices &amp; Accessories,Amazon Device Accessories,Kindle Store,Kindle E-Reader Accessories,Kindle Oasis Accessories</th>\n",
              "      <td>9.230152e+05</td>\n",
              "    </tr>\n",
              "    <tr>\n",
              "      <th>Amazon Devices &amp; Accessories,Amazon Device Accessories,Power Adapters &amp; Cables,Kindle Store,Kindle E-Reader Accessories,Kindle Paperwhite Accessories</th>\n",
              "      <td>9.034821e+06</td>\n",
              "    </tr>\n",
              "    <tr>\n",
              "      <th>Amazon Devices,Corded Headsets,Electronics Features,Electronics,Audio,Headphones,Kindle Store,Kindle Accessories</th>\n",
              "      <td>2.011248e+06</td>\n",
              "    </tr>\n",
              "    <tr>\n",
              "      <th>Amazon Devices,Electronics,Kindle Store</th>\n",
              "      <td>3.081701e+06</td>\n",
              "    </tr>\n",
              "    <tr>\n",
              "      <th>Amazon Devices,Electronics,Kindle Store,Amazon Echo</th>\n",
              "      <td>1.765831e+06</td>\n",
              "    </tr>\n",
              "    <tr>\n",
              "      <th>Amazon Devices,Home,Smart Home &amp; Connected Living,Smart Hubs &amp; Wireless Routers,Smart Hubs,Home Improvement,Home Safety &amp; Security,Alarms &amp; Sensors,Home Security,Amazon Echo,Home, Garage &amp; Office,Smart Home,Voice Assistants,Amazon Tap,Electronics Features,TVs &amp; Electronics,Portable Audio &amp; Electronics,MP3 Player Accessories,Home Theater &amp; Audio,Speakers,Featured Brands,Electronics,Kindle Store,Frys,Electronic Components,Home Automation,Electronics, Tech Toys, Movies, Music,Audio,Bluetooth Speakers</th>\n",
              "      <td>1.094282e+06</td>\n",
              "    </tr>\n",
              "  </tbody>\n",
              "</table>\n",
              "</div>"
            ],
            "text/plain": [
              "                                                    Weekly_Sales\n",
              "categories                                                      \n",
              "Accessories,Portable Power Banks,Portable Charg...  2.811808e+06\n",
              "Amazon Devices                                      1.457109e+08\n",
              "Amazon Devices & Accessories,Amazon Device Acce...  9.417670e+05\n",
              "Amazon Devices & Accessories,Amazon Device Acce...  1.381227e+06\n",
              "Amazon Devices & Accessories,Amazon Device Acce...  9.230152e+05\n",
              "Amazon Devices & Accessories,Amazon Device Acce...  9.034821e+06\n",
              "Amazon Devices,Corded Headsets,Electronics Feat...  2.011248e+06\n",
              "Amazon Devices,Electronics,Kindle Store             3.081701e+06\n",
              "Amazon Devices,Electronics,Kindle Store,Amazon ...  1.765831e+06\n",
              "Amazon Devices,Home,Smart Home & Connected Livi...  1.094282e+06"
            ]
          },
          "metadata": {
            "tags": []
          },
          "execution_count": 8
        }
      ]
    },
    {
      "cell_type": "code",
      "metadata": {
        "colab": {
          "base_uri": "https://localhost:8080/",
          "height": 387
        },
        "id": "OojnLPfpDlTV",
        "outputId": "caeb292f-1255-4daf-e333-d4ba4cd427e3"
      },
      "source": [
        "# Grouping products by Brands\n",
        "Brands = pd.DataFrame(dataset.groupby(['brand']).sum()['Weekly_Sales'])\n",
        "\n",
        "# Sorting the values\n",
        "Brands.sort_values(['brand'], ascending=False)\n",
        "Brands[:10]"
      ],
      "execution_count": 9,
      "outputs": [
        {
          "output_type": "execute_result",
          "data": {
            "text/html": [
              "<div>\n",
              "<style scoped>\n",
              "    .dataframe tbody tr th:only-of-type {\n",
              "        vertical-align: middle;\n",
              "    }\n",
              "\n",
              "    .dataframe tbody tr th {\n",
              "        vertical-align: top;\n",
              "    }\n",
              "\n",
              "    .dataframe thead th {\n",
              "        text-align: right;\n",
              "    }\n",
              "</style>\n",
              "<table border=\"1\" class=\"dataframe\">\n",
              "  <thead>\n",
              "    <tr style=\"text-align: right;\">\n",
              "      <th></th>\n",
              "      <th>Weekly_Sales</th>\n",
              "    </tr>\n",
              "    <tr>\n",
              "      <th>brand</th>\n",
              "      <th></th>\n",
              "    </tr>\n",
              "  </thead>\n",
              "  <tbody>\n",
              "    <tr>\n",
              "      <th></th>\n",
              "      <td>4816498.15</td>\n",
              "    </tr>\n",
              "    <tr>\n",
              "      <th>3nh</th>\n",
              "      <td>7469151.63</td>\n",
              "    </tr>\n",
              "    <tr>\n",
              "      <th>4700BC</th>\n",
              "      <td>447272.33</td>\n",
              "    </tr>\n",
              "    <tr>\n",
              "      <th>47krate</th>\n",
              "      <td>5955633.47</td>\n",
              "    </tr>\n",
              "    <tr>\n",
              "      <th>99Auth</th>\n",
              "      <td>10916614.28</td>\n",
              "    </tr>\n",
              "    <tr>\n",
              "      <th>AAA+Shea+Butter</th>\n",
              "      <td>2209985.74</td>\n",
              "    </tr>\n",
              "    <tr>\n",
              "      <th>AGARAM</th>\n",
              "      <td>5923444.75</td>\n",
              "    </tr>\n",
              "    <tr>\n",
              "      <th>AJ Organics</th>\n",
              "      <td>1044702.58</td>\n",
              "    </tr>\n",
              "    <tr>\n",
              "      <th>ALPINE REMEDY</th>\n",
              "      <td>370687.57</td>\n",
              "    </tr>\n",
              "    <tr>\n",
              "      <th>ANGTATVA</th>\n",
              "      <td>1127816.26</td>\n",
              "    </tr>\n",
              "  </tbody>\n",
              "</table>\n",
              "</div>"
            ],
            "text/plain": [
              "                 Weekly_Sales\n",
              "brand                        \n",
              "                   4816498.15\n",
              "3nh                7469151.63\n",
              "4700BC              447272.33\n",
              "47krate            5955633.47\n",
              "99Auth            10916614.28\n",
              "AAA+Shea+Butter    2209985.74\n",
              "AGARAM             5923444.75\n",
              "AJ Organics        1044702.58\n",
              "ALPINE REMEDY       370687.57\n",
              "ANGTATVA           1127816.26"
            ]
          },
          "metadata": {
            "tags": []
          },
          "execution_count": 9
        }
      ]
    }
  ]
}